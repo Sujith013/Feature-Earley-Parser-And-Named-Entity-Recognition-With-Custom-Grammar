{
 "cells": [
  {
   "cell_type": "markdown",
   "metadata": {
    "id": "0dAVgnlXGNb6"
   },
   "source": [
    "# **Download and Import required Modules**"
   ]
  },
  {
   "cell_type": "code",
   "execution_count": 3,
   "metadata": {
    "colab": {
     "base_uri": "https://localhost:8080/"
    },
    "id": "RWJ8NySkl1xG",
    "outputId": "ecce5e31-10ff-4ad7-c534-b2335e010f39"
   },
   "outputs": [
    {
     "name": "stderr",
     "output_type": "stream",
     "text": [
      "[nltk_data] Downloading package punkt to\n",
      "[nltk_data]     C:\\Users\\Dell\\AppData\\Roaming\\nltk_data...\n",
      "[nltk_data]   Package punkt is already up-to-date!\n",
      "[nltk_data] Downloading package punkt_tab to\n",
      "[nltk_data]     C:\\Users\\Dell\\AppData\\Roaming\\nltk_data...\n",
      "[nltk_data]   Package punkt_tab is already up-to-date!\n",
      "[nltk_data] Downloading package averaged_perceptron_tagger_eng to\n",
      "[nltk_data]     C:\\Users\\Dell\\AppData\\Roaming\\nltk_data...\n",
      "[nltk_data]   Package averaged_perceptron_tagger_eng is already up-to-\n",
      "[nltk_data]       date!\n",
      "[nltk_data] Downloading package maxent_ne_chunker to\n",
      "[nltk_data]     C:\\Users\\Dell\\AppData\\Roaming\\nltk_data...\n",
      "[nltk_data]   Package maxent_ne_chunker is already up-to-date!\n",
      "[nltk_data] Downloading package maxent_ne_chunker_tab to\n",
      "[nltk_data]     C:\\Users\\Dell\\AppData\\Roaming\\nltk_data...\n",
      "[nltk_data]   Package maxent_ne_chunker_tab is already up-to-date!\n",
      "[nltk_data] Downloading package words to\n",
      "[nltk_data]     C:\\Users\\Dell\\AppData\\Roaming\\nltk_data...\n",
      "[nltk_data]   Package words is already up-to-date!\n"
     ]
    },
    {
     "data": {
      "text/plain": [
       "True"
      ]
     },
     "execution_count": 3,
     "metadata": {},
     "output_type": "execute_result"
    }
   ],
   "source": [
    "import nltk\n",
    "import re\n",
    "\n",
    "nltk.download(\"punkt\")\n",
    "nltk.download(\"punkt_tab\")\n",
    "\n",
    "nltk.download('averaged_perceptron_tagger_eng')\n",
    "\n",
    "nltk.download('maxent_ne_chunker')\n",
    "nltk.download('maxent_ne_chunker_tab')\n",
    "nltk.download('words')"
   ]
  },
  {
   "cell_type": "markdown",
   "metadata": {
    "id": "RlR8TCaJGWU3"
   },
   "source": [
    "# **Load and Read the files**"
   ]
  },
  {
   "cell_type": "code",
   "execution_count": 5,
   "metadata": {
    "id": "PRwA8J3onqom"
   },
   "outputs": [],
   "source": [
    "#loading the files\n",
    "def read_file(file_name):\n",
    "  content = \"\"\n",
    "\n",
    "  with open(file_name,'r',encoding='latin-1') as file:\n",
    "    content = file.read()\n",
    "\n",
    "  content = re.sub(r\"<.*?>\", \"\", content)\n",
    "  content_list = re.split(\"\\n\",content)\n",
    "\n",
    "  new_content_list = []\n",
    "\n",
    "  for x in content_list:\n",
    "    if x!=\"\" and x!=\"\\n\":\n",
    "      new_content_list.append(x)\n",
    "\n",
    "  content = \"\"\n",
    "\n",
    "  for sent in new_content_list:\n",
    "      content += sent+\"\\n\"\n",
    "  \n",
    "  return content"
   ]
  },
  {
   "cell_type": "markdown",
   "metadata": {
    "id": "JFHt-nRpGeh0"
   },
   "source": [
    "# **Sentence and Word Tokenization**"
   ]
  },
  {
   "cell_type": "code",
   "execution_count": 6,
   "metadata": {
    "id": "Z8i6lVRYA9pn"
   },
   "outputs": [],
   "source": [
    "def sentence_tokenize(paragraphs):\n",
    "  sentences = []\n",
    "\n",
    "  for para in paragraphs:\n",
    "    sentences += nltk.sent_tokenize(para)\n",
    "  return sentences\n",
    "\n",
    "def word_tokenize(sentence):\n",
    "  return nltk.word_tokenize(sentence)"
   ]
  },
  {
   "cell_type": "markdown",
   "metadata": {},
   "source": [
    "## **POS Tagger**"
   ]
  },
  {
   "cell_type": "code",
   "execution_count": 7,
   "metadata": {
    "colab": {
     "base_uri": "https://localhost:8080/"
    },
    "collapsed": true,
    "id": "XLydNvgjGFbE",
    "outputId": "ffed27f1-8710-42c0-aac5-33d4e7bfab57"
   },
   "outputs": [],
   "source": [
    "def POS_tagger(word_lists):\n",
    "  POS_Tag_list = []\n",
    "\n",
    "  for sents in word_lists:\n",
    "    POS_Tag_list.append(nltk.pos_tag(sents))\n",
    "  \n",
    "  return POS_Tag_list"
   ]
  },
  {
   "cell_type": "markdown",
   "metadata": {},
   "source": [
    "# **Grammar And Parsing**"
   ]
  },
  {
   "cell_type": "code",
   "execution_count": 2,
   "metadata": {},
   "outputs": [
    {
     "name": "stdout",
     "output_type": "stream",
     "text": [
      "det[NUM=sg] -> \"this\" | \"that\" | \"each\" | \"every\" | \"another\" | \"either\" | \"an\" | \"a\" | \"any\" | \"some\" | \"no\" | \"the\"\n",
      "det[NUM=pl] -> \"these\" | \"those\" | \"both\" | \"all\" | \"any\" | \"some\" | \"no\" | \"half\" | \"the\"\n",
      "pos[PERSON=3, NUM=sg] -> \"'s\" \n",
      "pos[PERSON=2, NUM=sg] -> \"'are\"\n",
      "pos[PERSON=?n, NUM=pl] -> \"'are\"\n",
      "prp[PERSON=1, NUM=sg] -> \"i\" | \"my\"\n",
      "prp[PERSON=1, NUM=pl] -> \"we\" | \"our\" | \"us\"\n",
      "prp[PERSON=2, NUM=?n] -> \"you\" | \"your\" | \"yourself\"\n",
      "prp[PERSON=3, NUM=sg] -> \"he\" | \"his\" | \"she\" | \"her\" | \"it\" | \"its\"\n",
      "prp[PERSON=3, NUM=pl] -> \"they\" | \"them\" | \"their\"\n",
      "V[NUM=sg, PERSON=1] -> \"was\" | \"have\" | \"become\" | \"let\" | \"advice\" | \"pass\" | \"want\" | \"receive\" | \"keep\" | \"want\" | \"discuss\" | \"store\" | \"exist\" | \"return\" | \"repeat\" | \"replace\" | \"result\" | \"change\" | \"distribute\" | \"store\" | \"see\" | \"forget\" | \"try\" | \"bear\" | \"intensify\" | \"do\" | \"miss\" | \"wear\" | \"set\" | \"contact\" | \"subject\" | \"increase\" | \"restore\" | \"deliver\" | \"alter\" | \"release\" | \"proceed\" | \"reach\" | \"treat\" | \"suffer\" | \"determine\" | \"worry\" | \"sit\" | \"remain\" | \"lose\" | \"help\" | \"stop\" | \"prepare\" | \"carry\" | \"persist\" | \"drop\" | \"produce\" | \"exceed\" | \"continue\" | \"worry\" | \"tell\" | \"lead\" | \"sit\" | \"raise\" | \"start\" | \"consult\" | \"include\" | \"respond\" | \"put\" | \"lead\" | \"rise\" | \"occur\" | \"respond\" | \"develop\" | \"lose\" | \"turn\" | \"come\" | \"vary\" | \"heal\" | \"help\" | \"stop\" | \"interact\" | \"like\" | \"collect\" | \"remember\" | \"cause\" | \"continue\" | \"estimate\" | \"add\" | \"know\" | \"monitor\" | \"notice\" | \"answer\" | \"breathe\" | \"get\" | \"lower\" | \"eat\" | \"screw\" | \"collect\" | \"remind\" | \"go\" | \"avoid\" | \"refrigerate\" | \"monitor\" | \"drive\" | \"recognise\" | \"prescribe\" | \"measure\" | \"notify\" | \"freeze\" | \"drink\" | \"eat\" | \"collect\" | \"remind\" | \"affect\" | \"require\" | \"improve\" | \"perform\" | \"disappear\" | \"refrigerate\" | \"notice\" | \"drive\" | \"answer\" | \"give\" | \"make\" | \"recognise\" | \"prescribe\" | \"measure\" | \"freeze\" | \"drink\" | \"do\" | \"take\" | \"catch\" | \"protect\" | \"hesitate\" | \"push\" | \"finish\" | \"shake\" | \"understand\" | \"show\" | \"evaluate\" | \"learn\" | \"experience\" | \"harm\" | \"settle\" | \"operate\" | \"appear\" | \"offer\" | \"prevent\" | \"obtain\" | \"mean\" | \"find\" | \"wrap\" | \"aid\" | \"remove\" | \"remember\" | \"impair\" | \"fall\" | \"interfere\" | \"deteriorate\" | \"end\" | \"skip\" | \"arrange\" | \"pour\" | \"fill\" | \"lack\" | \"swallow\" | \"transfer\" | \"run\" | \"bite\" | \"seem\" | \"gain\" | \"wish\" | \"grow\" | \"deal\" | \"decide\" | \"retain\" | \"wait\" | \"mention\" | \"assist\" | \"provide\" | \"inform\" | \"instruct\" | \"begin\" | \"walk\" | \"pull\" | \"squeeze\" | \"dribble\" | \"break\" | \"form\" | \"tear\" | \"sting\" | \"smoke\" | \"eject\" | \"rub\" | \"pierce\" | \"stain\" | \"dry\" | \"clear\" | \"note\" | \"detail\" | \"talk\" | \"explain\" | \"seek\" | \"draw\" | \"apply\" | \"play\" | \"control\" | \"depend\" | \"stand\" | \"move\" | \"adjust\" | \"throw\" | \"insert\" | \"foresee\" | \"massage\" | \"mix\" | \"burn\" | \"clean\" | \"prepare\" | \"undergo\" | \"wash\" | \"modify\" | \"ask\" | \"use\" | \"read\" | \"think\" | \"contain\" | \"buy\" | \"advise\" | \"balance\" | \"happen\"\n",
      "V[NUM=sg, PERSON=2] -> \"were\" | \"are\" | \"have\" | \"become\" | \"let\" | \"advice\" | \"pass\" | \"want\" | \"receive\" | \"keep\" | \"want\" | \"discuss\" | \"store\" | \"exist\" | \"return\" | \"repeat\" | \"replace\" | \"result\" | \"change\" | \"distribute\" | \"store\" | \"see\" | \"forget\" | \"try\" | \"bear\" | \"intensify\" | \"do\" | \"miss\" | \"wear\" | \"set\" | \"contact\" | \"subject\" | \"increase\" | \"restore\" | \"deliver\" | \"alter\" | \"release\" | \"proceed\" | \"reach\" | \"treat\" | \"suffer\" | \"determine\" | \"worry\" | \"sit\" | \"remain\" | \"lose\" | \"help\" | \"stop\" | \"prepare\" | \"carry\" | \"persist\" | \"drop\" | \"produce\" | \"exceed\" | \"continue\" | \"worry\" | \"tell\" | \"lead\" | \"sit\" | \"raise\" | \"start\" | \"consult\" | \"include\" | \"respond\" | \"put\" | \"lead\" | \"rise\" | \"occur\" | \"respond\" | \"develop\" | \"lose\" | \"turn\" | \"come\" | \"vary\" | \"heal\" | \"help\" | \"stop\" | \"interact\" | \"like\" | \"collect\" | \"remember\" | \"cause\" | \"continue\" | \"estimate\" | \"add\" | \"know\" | \"monitor\" | \"notice\" | \"answer\" | \"breathe\" | \"get\" | \"lower\" | \"eat\" | \"screw\" | \"collect\" | \"remind\" | \"go\" | \"avoid\" | \"refrigerate\" | \"monitor\" | \"drive\" | \"recognise\" | \"prescribe\" | \"measure\" | \"notify\" | \"freeze\" | \"drink\" | \"eat\" | \"collect\" | \"remind\" | \"affect\" | \"require\" | \"improve\" | \"perform\" | \"disappear\" | \"refrigerate\" | \"notice\" | \"drive\" | \"answer\" | \"give\" | \"make\" | \"recognise\" | \"prescribe\" | \"measure\" | \"freeze\" | \"drink\" | \"do\" | \"take\" | \"catch\" | \"protect\" | \"hesitate\" | \"push\" | \"finish\" | \"shake\" | \"understand\" | \"show\" | \"evaluate\" | \"learn\" | \"experience\" | \"harm\" | \"settle\" | \"operate\" | \"appear\" | \"offer\" | \"prevent\" | \"obtain\" | \"mean\" | \"find\" | \"wrap\" | \"aid\" | \"remove\" | \"remember\" | \"impair\" | \"fall\" | \"interfere\" | \"deteriorate\" | \"end\" | \"skip\" | \"arrange\" | \"pour\" | \"fill\" | \"lack\" | \"swallow\" | \"transfer\" | \"run\" | \"bite\" | \"seem\" | \"gain\" | \"wish\" | \"grow\" | \"deal\" | \"decide\" | \"retain\" | \"wait\" | \"mention\" | \"assist\" | \"provide\" | \"inform\" | \"instruct\" | \"begin\" | \"walk\" | \"pull\" | \"squeeze\" | \"dribble\" | \"break\" | \"form\" | \"tear\" | \"sting\" | \"smoke\" | \"eject\" | \"rub\" | \"pierce\" | \"stain\" | \"dry\" | \"clear\" | \"note\" | \"detail\" | \"talk\" | \"explain\" | \"seek\" | \"draw\" | \"apply\" | \"play\" | \"control\" | \"depend\" | \"stand\" | \"move\" | \"adjust\" | \"throw\" | \"insert\" | \"foresee\" | \"massage\" | \"mix\" | \"burn\" | \"clean\" | \"prepare\" | \"undergo\" | \"wash\" | \"modify\" | \"ask\" | \"use\" | \"read\" | \"think\" | \"contain\" | \"buy\" | \"advise\" | \"balance\" | \"happen\"\n",
      "V[NUM=pl, PERSON=?n] -> \"were\" | \"are\" | \"have\" | \"become\" | \"let\" | \"advice\" | \"pass\" | \"want\" | \"receive\" | \"keep\" | \"want\" | \"discuss\" | \"store\" | \"exist\" | \"return\" | \"repeat\" | \"replace\" | \"result\" | \"change\" | \"distribute\" | \"store\" | \"see\" | \"forget\" | \"try\" | \"bear\" | \"intensify\" | \"do\" | \"miss\" | \"wear\" | \"set\" | \"contact\" | \"subject\" | \"increase\" | \"restore\" | \"deliver\" | \"alter\" | \"release\" | \"proceed\" | \"reach\" | \"treat\" | \"suffer\" | \"determine\" | \"worry\" | \"sit\" | \"remain\" | \"lose\" | \"help\" | \"stop\" | \"prepare\" | \"carry\" | \"persist\" | \"drop\" | \"produce\" | \"exceed\" | \"continue\" | \"worry\" | \"tell\" | \"lead\" | \"sit\" | \"raise\" | \"start\" | \"consult\" | \"include\" | \"respond\" | \"put\" | \"lead\" | \"rise\" | \"occur\" | \"respond\" | \"develop\" | \"lose\" | \"turn\" | \"come\" | \"vary\" | \"heal\" | \"help\" | \"stop\" | \"interact\" | \"like\" | \"collect\" | \"remember\" | \"cause\" | \"continue\" | \"estimate\" | \"add\" | \"know\" | \"monitor\" | \"notice\" | \"answer\" | \"breathe\" | \"get\" | \"lower\" | \"eat\" | \"screw\" | \"collect\" | \"remind\" | \"go\" | \"avoid\" | \"refrigerate\" | \"monitor\" | \"drive\" | \"recognise\" | \"prescribe\" | \"measure\" | \"notify\" | \"freeze\" | \"drink\" | \"eat\" | \"collect\" | \"remind\" | \"affect\" | \"require\" | \"improve\" | \"perform\" | \"disappear\" | \"refrigerate\" | \"notice\" | \"drive\" | \"answer\" | \"give\" | \"make\" | \"recognise\" | \"prescribe\" | \"measure\" | \"freeze\" | \"drink\" | \"do\" | \"take\" | \"catch\" | \"protect\" | \"hesitate\" | \"push\" | \"finish\" | \"shake\" | \"understand\" | \"show\" | \"evaluate\" | \"learn\" | \"experience\" | \"harm\" | \"settle\" | \"operate\" | \"appear\" | \"offer\" | \"prevent\" | \"obtain\" | \"mean\" | \"find\" | \"wrap\" | \"aid\" | \"remove\" | \"remember\" | \"impair\" | \"fall\" | \"interfere\" | \"deteriorate\" | \"end\" | \"skip\" | \"arrange\" | \"pour\" | \"fill\" | \"lack\" | \"swallow\" | \"transfer\" | \"run\" | \"bite\" | \"seem\" | \"gain\" | \"wish\" | \"grow\" | \"deal\" | \"decide\" | \"retain\" | \"wait\" | \"mention\" | \"assist\" | \"provide\" | \"inform\" | \"instruct\" | \"begin\" | \"walk\" | \"pull\" | \"squeeze\" | \"dribble\" | \"break\" | \"form\" | \"tear\" | \"sting\" | \"smoke\" | \"eject\" | \"rub\" | \"pierce\" | \"stain\" | \"dry\" | \"clear\" | \"note\" | \"detail\" | \"talk\" | \"explain\" | \"seek\" | \"draw\" | \"apply\" | \"play\" | \"control\" | \"depend\" | \"stand\" | \"move\" | \"adjust\" | \"throw\" | \"insert\" | \"foresee\" | \"massage\" | \"mix\" | \"burn\" | \"clean\" | \"prepare\" | \"undergo\" | \"wash\" | \"modify\" | \"ask\" | \"use\" | \"read\" | \"think\" | \"contain\" | \"buy\" | \"advise\" | \"balance\" | \"happen\"\n",
      "V[NUM=sg, PERSON=3] -> \"is\" | \"was\" | \"has\" | \"depends\" | \"contains\" | \"decides\" | \"functions\" | \"provides\" | \"increases\" | \"does\" | \"follows\" | \"drinks\" | \"reaches\" | \"changes\" | \"feels\" | \"gives\" | \"appears\" | \"rises\" | \"helps\" | \"shallows\" | \"ensures\" | \"prescribes\" | \"applies\" | \"tells\" | \"happens\" | \"develops\" | \"means\" | \"seems\" | \"advises\" | \"persists\" | \"affects\" | \"aggravates\" | \"belongs\" | \"goes\" | \"thins\" | \"stops\" | \"needs\" | \"makes\" | \"gets\" | \"consists\" | \"decreases\" | \"uses\" | \"knows\" | \"comes\" | \"continues\"\n",
      "V[NUM=?n] -> \"missing\" | \"disposed\" | \"published\" | \"pens\" | \"excessive\" | \"acting\" | \"'s\" | \"unplanned\" | \"adenosine\" | \"difficulty\" | \"hypoglycaemia\" | \"weight\" | \"functioning\" | \"being\" | \"kept\" | \"appearing\" | \"told\" | \"manufactured\" | \"suffering\" | \"setting\" | \"experienced\" | \"employed\" | \"holding\" | \"remembered\" | \"forgot\" | \"remembering\" | \"adjusted\" | \"reduced\" | \"recognising\" | \"increased\" | \"keeping\" | \"removed\" | \"arranged\" | \"making\" | \"broken\" | \"varying\" | \"seen\" | \"left\" | \"producing\" | \"occurring\" | \"blurring\" | \"stopped\" | \"slow\" | \"exposed\" | \"containing\" | \"pushed\" | \"known\" | \"knowledge\" | \"lips\" | \"blood\" | \"ascending\" | \"advised\" | \"prolonged\" | \"be\" | \"flowing\" | \"used\" | \"asked\" | \"finished\" | reported | \"turned\" | \"treating\" | \"recommended\" | \"involving\" | \"produced\" | \"taken\" | \"advised\" | \"carried\" | \"determined\" | \"reported\" | \"eating\" | \"continued\" | \"feeding\" | \"falling\" | \"treating\" | \"changing\" | \"according\" | \"flowing\" | \"pronounced\" | \"transferred\" | \"undertaken\" | \"used\" | \"insulintake\" | \"pounding\" | \"interrupted\" | \"caused\" | \"intended\" | \"described\" | \"associated\" | \"finished\" | \"revealed\" | \"vomiting\" | \"involving\" | \"asked\" | \"otherwise\" | \"please\" | \"corrected\" | \"collected\" | \"right\" | \"had\" | \"lower\" | \"older\" | \"blocked\" | \"obtained\" | \"prescribed\" | \"flushing\" | \"remaining\" | \"provided\" | \"treated\" | \"causing\" | \"driving\" | \"thinning\" | \"given\" | \"supplied\" | \"developed\" | \"using\" | \"qis\" | \"exercising\" | \"vaccinated\" | \"expelled\" | \"felt\" | \"injected\" | \"operating\" | \"followed\" | \"taking\" | \"suffered\" | \"receiving\" | \"feeling\" | \"blur\" | \"depending\" | \"changed\" | \"damaged\" | \"following\" | \"allowed\" | \"started\" | \"required\" | \"done\" | \"lowered\" | \"trying\" | \"got\" | \"foot\" | \"needed\" | \"checked\" | \"enclosed\" | \"worsening\" | \"stirred\" | \"flushed\" | \"bleeding\" | \"dispensing\" | \"tingling\" | \"hurting\" | \"cloning\" | \"resolved\" | \"unwanted\" | \"prepared\" | \"breastfeeding\" | \"coated\" | \"aching\" | \"reducing\" | \"switching\" | \"storing\" | \"written\" | \"bloated\" | \"swallowed\" | \"did\" | \"thought\" | \"saw\" | \"fullness/being\" | \"sure\" | \"plc\" | \"kidney\" | \"sometimes\" | \"osteoporosis\" | \"till\" | \"glaucoma\" | \"skin\" | \"penicillin\" | \"healthcare\" | \"hyperthyroidism\" | \"stomach\" | \"dizzy\" | \"aged\" | \"dextrose\" | \"gave\" | \"fracture\" | \"specified\" | \"made\" | \"marked\" | \"helping\" | \"affecting\" | \"revised\" | \"printed\" | \"decided\" | \"starting\" | \"noted\" | \"fluid\" | \"sought\" | \"squeezing\" | \"polysorbate\" | \"checking\" | \"worsen\" | \"breathing\" | \"instructed\" | \"packed\" | \"washed\" | \"observed\" | \"choosing\" | \"aged\" | \"dizzy\" | \"dextrose\" | \"preventing\" | \"exercised\" | \"holding\" | \"discontinued\" | \"investigated\" | \"closed\" | \"established\" | \"showed\" | \"stored\" | \"learning\" | \"disappeared\" | \"characterized\" | \"decrease\" | \"administer\" | \"misused\" | \"blocking\" | \"ruled\" | \"directing\" | \"modifying\" | \"spray\" | \"formulated\" | \"raised\" | \"squirt\" | \"engraved\" | \"diagnosed\" | \"registered\" | \"explained\" | \"massaged\" | \"issued\" | \"improving\" | \"covering\" | \"colouring\" | \"repeated\" | \"applying\" | \"based\" | \"confused\" | \"injecting\" | \"decreased\" | \"working\" | \"related\" | \"inserting\" | \"prolong\" | \"withdrawn\" | \"removing\" | \"trained\" | \"monitored\" | \"initiated\" | \"once\" | \"divided\" | \"called\" | \"been\" | \"missed\" | \"stopping\" | \"applied\" | \"directed\" | \"giving\" | \"involved\" | \"having\" | \"going\" | \"shown\"\n",
      "N[NUM=sg] -> \"tachycardia\" | \"discomfort\" | \"wirral\" | \"ml\" | \"gravis\" | \"achilles\" | \"sill\" | \"hounslow\" | \"are\" | \"nervousness\" | \"consult\" | \"liquid\" | \"patchy\" | \"important\" | \"etc\" | \"iald\" | \"rue\" | \"overdosage\" | \"dipyridamole\" | \"month\" | \"*\" | \"upwards\" |  \"potassium\" | \"qwho\" | \"body\" | \"point\" | \"ltd\" | \"joint\" | \"cancer\" | \"rhythm\" | \"trade\" | \"injection\" | \"throat\" | \"person\" | \"opticianit\" | \"degradation\" | \"category\" | \"tract\" | \"reaction\" | \"date\" | \"carbohydrate\" | \"sunlight\" | \"consciousness\" | \"medicine\" | \"baldness\" | \"d'abbaye\" | \"adenosine\" | \"tw3\" | \"snack\" | \"gout\" | \"polysorbate\" | \"ecg\" | \"dentistbefore\" | \"lightheadedness\" | \"saline\" | \"attack\" | \"surgery\" | \"expel\" | \"hyperventilation\" | \"flutter\" | \"heaviness\" | \"duration\" | \"additional\" | \"appetite\" | \"selection\" | \"breathing\" | \"caution\" | \"warnings\" | \"dosage\" | \"signs\" | \"porcine\" | \"dyspnoea\" | \"backwards\" | \"jaw\" | \"donaustauferstrasse\" | \"acepril\" | \"instructions\" | \"indigestion\" | \"preexcitation\" | \"glycerol\" | \"redness\" | \"chickenpox\" | \"seventy\" | \"your\" | \"sure\" | \"failure\" | \"ace\" | \"indomethacin\" | \"uk\" | \"difficulty\" | \"bp\" | \"mark\" | \"minute\" | \"ayour\" | \"depression\" | \"advice\" | \"pharmacy\" | \"intake\" | \"winthrop\" | \"dizziness\" | \"monitoring\" | \"gmbh\" | \"one\" | \"care\" | \"amount\" | \"acheck\" | \"package\" | \"cellulose\" | \"cabinet\" | \"advance\" | \"case\" | \"sensitivity\" | \"type\" | \"w1m\" | \"temperature\" | \"bovine\" | \"vial\" | \"neck\" | \"nurse\" | \"converting\" | \"ait\" | \"arthritis\" | \"pressure\" | \"eye\" | \"container\" | \"flulike\" | \"sucrose\" | \"exercise\" | \"dermatitis\" | \"allopurinol\" | \"cupboard\" | \"summary\" | \"functioning\" | \"spare\" | \"meal\" | \"atell\" | \"belongs\" | \"tab\" | \"authorisation\" | \"dame\" | \"tongue\" | \"stomach\" | \"face\" | \"acontinue\" | \"doctorâs\" | \"needle\" | \"skin\" | \"beta\" | \"myasthenia\" | \"surrey\" | \"glaucoma\" | \"dentist\" | \"minutes\" | \"ph\" | \"carton\" | \"constriction\" | \"cough\" | \"chocolate\" | \"storage\" | \"replace\" | \"august\" | \"urge\" | \"pull\" | \"change\" | \"united\" | \"order\" | \"differ\" | \"dizzy\" | \"beat\" | \"watch\" | \"expiry\" | \"keep\" | \"administration\" | \"tremors\" | \"holder\" | \"bradycardia\" | \"place\" | \"hyperglycaemia\" | \"sodium\" | \"net\" | \"loss\" | \"delay\" | \"q\" | \"kidney\" | \"air\" | \"circulation\" | \"eyes\" | \"heat\" | \"action\" | \"quantity\" | \"food\" | \"coma\" | \"pyr\" | \"condition\" | \"middlesex\" | \"heart\" | \"maoi\" | \"shingles\" | \"recovery\" | \"sickness\" | \"household\" | \"uptake\" | \"shot\" | \"increase\" | \"dose\" | \"cola\" | \"micrograms\" | \"warning\" | \"germany\" | \"diabetes\" | \"forwards\" | \"adcortyl\" | \"week\" | \"casualty\" | \"sugar\" | \"refrigerator\" | \"figure\" | \"pom\" | \"contact\" | \"head\" | \"strength\" | \"urgency\" | \"sensation\" | \"shakiness\" | \"aadcortyl\" | \"notre\" | \"sheath\" | \"scan\" | \"insulin\" | \"doctor\" | \"iuml\" | \"in\" | \"e\" | \"ayou\" | \"set\" | \"kingdom\" | \"glucose\" | \"hormone\" | \"held\" | \"pathway\" | \"insufficiency\" | \"preparation\" | \"caps\" | \"intraarticularintradermal\" | \"coffee\" | \"mind\" | \"tip\" | \"amp\" | \"specialist\" | \"eyesight\" | \"name\" | \"preservative\" | \"aspirin\" | \"faintness\" | \"fibrillationflutter\" | \"novofine\" | \"british\" | \"pharmacist\" | \"hypo\" | \"concentration\" | \"fibrillation\" | \"infection\" | \"machinery\" | \"waste\" | \"pocket\" | \"bogus\" | \"study\" | \"reach\" | \"number\" | \"patient\" | \"finger\" | \"pancreas\" | \"level\" | \"device\" | \"elevation\" | \"infusion\" | \"ampoules\" | \"revision\" | \"av\" | \"button\" | \"muscle\" | \"procedure\" | \"ia\" | \"carry\" | \"liver\" | \"march\" | \"window\" | \"push\" | \"monoamine\" | \"conditions\" | \"home\" | \"irish\" | \"pl\" | \"quantities\" | \"drop\" | \"weakness\" | \"drugs\" | \"oxidase\" | \"limited\" | \"membrane\" | \"disease\" | \"tachycardias\" | \"supraventricular\" | \"reservoir\" | \"qhow\" | \"cyclophosphamide\" | \"copy\" | \"sterile\" | \"presentation\" | \"l46\" | \"for\" | \"levels\" | \"outer\" | \"information\" | \"staines\" | \"pain\" | \"recommendations\" | \"adenoscan\" | \"replacement\" | \"ie\" | \"dispose\" | \"therapy\" | \"anne\" | \"captopril\" | \"light\" | \"Âamoxil\" | \"addition\" | \"merseyside\" | \"maximum\" | \"area\" | \"tell\" | \"something\" | \"inflammation\" | \"precautions\" | \"aall\" | \"course\" | \"tissue\" | \"growth\" | \"paediatric\" | \"rubber\" | \"ingredient\" | \"radiator\" | \"steroid\" | \"mg\" | \"de\" | \"tea\" | \"tiredness\" | \"administer\" | \"indentation\" | \"drug\" | \"bones\" | \"fractures\" | \"top\" | \"lover\" | \"apprehension\" | \"iv\" | \"questions\" | \"sideeffects\" | \"anything\" | \"bondeville\" | \"circuit\" | \"testing\" | \"arrow\" | \"actions\" | \"leg\" | \"cataracts\" | \"wolffparkinsonwhite\" | \"include\" | \"starting\" | \"hands\" | \"blood\" | \"clinic\" | \"iaid\" | \"ireland\" | \"atropine\" | \"room\" | \"ascending\" | \"occur\" | \"stiffness\" | \"last\" | \"breast\" | \"squibb\" | \"painkillers\" | \"evidence\" | \"indications\" | \"packs\" | \"paleness\" | \"d93055\" | \"f\" | \"heartbeats\" | \"road\" | \"foetus\" | \"s\" | \"rate\" | \"weather\" | \"turns\" | \"microcrystalline\" | \"anyone\" | \"hand\" | \"vision\" | \"assessment\" | \"azathioprine\" | \"human\" | \"lane\" | \"enzyme\" | \"treatment\" | \"ability\" | \"mouth\" | \"mgml\" | \"supermarket\" | \"tendon\" | \"address\" | \"site\" | \"association\" | \"alcohol\" | \"headache\" | \"transfer\" | \"syndrome\" | \"node\" | \"bowel\" | \"stress\" | \"id\" | \"increments\" | \"with\" | \"pen\" | \"cap\" | \"bronchitis\" | \"diagnosis\" | \"cases\" | \"qwhat\" | \"disturbances\" | \"always\" | \"lumps\" | \"feet\" | \"eg\" | \"looking\" | \"numbers\" | \"fever\" | \"emergency\" | \"nose\" | \"tb\" | \"immediately\" | \"regensburg\" | \"abdomen\" | \"acetonide\" | \"kilogram\" | \"hypo\" | \"sanofi\" | \"thyroid\" | \"timing\" | \"handbag\" | \"epilepsy\" | \"ringing\" | \"life\" | \"chest\" | \"wounds\" | \"pacemaker\" | \"diabetics\" | \"xanthines\" | \"colds\" | \"control\" | \"tests\" | \"continue\" | \"hunger\" | \"palpitations\" | \"arms\" | \"ltd\" | \"limiting\" | \"symptoms\" | \"athe\" | \"legal\" | \"packaging\" | \"effects\" | \"onslow\" | \"leaflet\" | \"taste\" | \"mcresol\" | \"lithium\" | \"absence\" | \"chloride\" | \"faint\" | \"hours\" | \"uses\" | \"please\" | \"intervals\" | \"needles\" | \"pregnancy\" | \"effect\" | \"efficacy\" | \"flushing\" | \"carboxymethylcellulose\" | \"ear\" | \"delivery\" | \"discard\" | \"dublin\" | \"gu1\" | \"arm\" | \"child\" | \"age\" | \"individuals\" | \"relief\" | \"immune\" | \"energy\" | \"sensitisation\" | \"tingling\" | \"supplement\" | \"cells\" | \"source\" | \"examples\" | \"drive\" | \"direction\" | \"someone\" | \"april\" | \"break\" | \"form\" | \"risk\" | \"queen\" | \"results\" | \"kidneys\" | \"make\" | \"qis\" | \"get\" | \"conversion\" | \"nausea\" | \"activity\" | \"eur\" | \"substance\" | \"undesirable\" | \"recordings\" | \"right\" | \"drowsiness\" | \"size\" | \"vein\" | \"impairment\" | \"product\" | \"urine\" | \"freeze\" | \"interactions\" | \"salt\" | \"actrapid\" | \"click\" | \"guildford\" | \"eat\" | \"diabetic\" | \"schedule\" | \"preparations\" | \"line\" | \"qare\" | \"diarrhoea\" | \"effectiveness\" | \"problem\" | \"bypass\" | \"water\" | \"day\" | \"card\" | \"aid\" | \"indicator\" | \"asthma\" | \"acid\" | \"rashes\" | \"member\" | \"gain\" | \"tendons\" | \"degrees\" | \"period\" | \"pump\" | \"scale\" | \"adults\" | \"headedness\" | \"manufacturer\" | \"technique\" | \"companies\" | \"side\" | \"taking\" | \"possible\" | \"have\" | \"aggravation\" | \"method\" | \"angiotensin\" | \"glass\" | \"tracts\" | \"adjustment\" | \"diseases\" | \"france\" | \"department\" | \"resistance\" | \"flush\" | \"fainting\" | \"adenocor\" | \"receiving\" | \"pill\" | \"conduction\" | \"slowing\" | \"hay\" | \"remember\" | \"possibility\" | \"hospital\" | \"street\" | \"feeling\" | \"licence\" | \"relation\" | \"bristolmyers\" | \"pharmaceuticals\" | \"colour\" | \"r\" | \"ado\" | \"mode\" | \"portion\" | \"glucagon\" | \"illness\" | \"industrie\" | \"inhibitor\" | \"london\" | \"sinus\" | \"substitutes\" | \"times\" | \"buzzing\" | \"harm\" | \"following\" | \"mood\" | \"elimination\" | \"diagnostic\" | \"solution\" | \"immunisation\" | \"retention\" | \"starch\" | \"theophylline\" | \"moreton\" | \"abnormalities\" | \"prescription\" | \"clots\" | \"headaches\" | \"pacing\" | \"moment\" | \"swindon\" | \"ill\" | \"silicon\" | \"spoon\" | \"types\" | \"apricot\" | \"artery\" | \"volume\" | \"breasts\" | \"methotrexate\" | \"allergic\" | \"blue\" | \"west\" | \"inside\" | \"stearate\" | \"hair\" | \"trouble\" | \"beecham\" | \"benzoate\" | \"phenytoin\" | \"toilet\" | \"overdose\" | \"valves\" | \"ulcer\" | \"itching\" | \"hydroxypropylmethyl\" | \"wimbledon\" | \"laboratories\" | \"holiday\" | \"rash\" | \"dialysis\" | \"adipine\" | \"cold\" | \"capsuleson\" | \"others\" | \"stadastrasse\" | \"function\" | \"am\" | \"dosing\" | \"counts\" | \"denham\" | \"progress\" | \"whole\" | \"term\" | \"logo\" | \"family\" | \"nb\" | \"babies\" | \"marks\" | \"tw8\" | \"uxbridge\" | \"interest\" | \"roussel\" | \"about\" | \"supply\" | \"ub9\" | \"moods\" | \"left\" | \"tells\" | \"syrupon\" | \"discontinuation\" | \"acetate\" | \"hives\" | \"vomit\" | \"amoxil\" | \"tablet\" | \"baby\" | \"stools\" | \"contents\" | \"and/or\" | \"october\" | \"increases\" | \"br\" | \"medication\" | \"plenty\" | \"trading\" | \"kind\" | \"st\" | \"sink\" | \"calcium\" | \"reactions\" | \"adult\" | \"child's\" | \"sores\" | \"wiltshire\" | \"circumstances\" | \"fungus\" | \"house\" | \"contains\" | \"storing\" | \"ranitidine\" | \"direct\" | \"addison's\" | \"take\" | \"tartrazine\" | \"penicillins\" | \"bencard\" | \"b\" | \"note\" | \"start\" | \"fullness\" | \"baby's\" | \"repeat\" | \"parents\" | \"suspension\" | \"excipients\" | \"response\" | \"agents\" | \"vilbel\" | \"unscrew\" | \"areas\" | \"ways\" | \"osteoporosis\" | \"macrogol\" | \"feeding\" | \"front\" | \"valve\" | \"rest\" | \"store\" | \"yours\" | \"warfarin\" | \"steps\" | \"orbital\" | \"lactose\" | \"middle\" | \"talc\" | \"accident\" | \"night\" | \"basis\" | \"trihydrate\" | \"becomes\" | \"details\" | \"marketing\" | \"pack\" | \"answer\" | \"trinity\" | \"sorbitol\" | \"half\" | \"other\" | \"stop\" | \"bottle\" | \"hour\" | \"ankles\" | \"platelet\" | \"frequency\" | \"men\" | \"syrup\" | \"later\" | \"nifedipine\" | \"frg\" | \"warmth\" | \"milk\" | \"september\" | \"brentford\" | \"mr\" | \"whilst\" | \"follow\" | \"virus\" | \"dioxide\" | \"capsules\" | \"gums\" | \"antagonists\" | \"cimetidine\" | \"sw19\" | \"label\" | \"oral\" | \"george\" | \"salicylates\" | \"obstruction\" | \"cortisyl\" | \"dyes\" | \"sn3\" | \"space\" | \"drink\" | \"stada\" | \"decision\" | \"surface\" | \"weeks\" | \"glucocorticoid\" | \"narrowing\" | \"spoonfuls\" | \"dropper\" | \"distribution\" | \"north\" | \"transient\" | \"amphotericin\" | \"directions\" | \"way\" | \"reserve\" | \"unwell\" | \"any\" | \"infant\" | \"end\" | \"fatigue\" | \"rifampicin\" | \"vessels\" | \"e172\" | \"colourants\" | \"bad\" | \"acne\" | \"ag\" | \"prevention\" | \"days\" | \"suffers\" | \"reddening\" | \"stretch\" | \"magnesium\" | \"amoxycillin\" | \"amoxil\" | \"park\" | \"hypertension\" | \"withdrawal\" | \"chew\" | \"thrush\" | \"e171\" | \"chemist\" | \"pectoris\" | \"tuition\" | \"round\" | \"range\" | \"england\" | \"cortisone\" | \"arzneimittel\" | \"quot\" | \"swelling\" | \"povidone\" | \"example\" | \"peeling\" | \"bulb\" | \"adipine&trade\" | \"georges\" | \"&tradetrade\" | \"tpi\" | \"fertility\" | \"mixture\" | \"rinse\" | \"anaesthetic\" | \"cloth\" | \"lion\" | \"selfinjection\" | \"washing\" | \"physician\" | \"disturb\" | \"pox\" | \"if\" | \"dohme\" | \"ms\" | \"napkin\" | \"chicken\" | \"betaferon\" | \"bucks\" | \"did\" | \"length\" | \"ccl\" | \"central\" | \"thin\" | \"iu\" | \"breathlessness\" | \"hypersensitivity\" | \"paraffin\" | \"tocainide\" | \"year\" | \"freezer\" | \"propellant\" | \"check\" | \"haemorrhoids\" | \"citrate\" | \"part\" | \"assistant\" | \"reality\" | \"lignocaine\" | \"ballerup\" | \"share\" | \"a\" | \"squeeze\" | \"co\" | \"phenylephrine\" | \"albumin\" | \"wall\" | \"kingston\" | \"rash\" | \"anus\" | \"sgot\" | \"process\" | \"fingertips\" | \"wax\" | \"composition\" | \"chair\" | \"maleate\" | \"maols\" | \"hold\" | \"clothes\" | \"discoloration\" | \"melts\" | \"and\" | \"breastfeeding\" | \"itchiness\" | \"mistake\" | \"bodyâs\" | \"chance\" | \"p450\" | \"unit\" | \"allergy\" | \"stopper\" | \"evening\" | \"reasons\" | \"courses\" | \"interferons\" | \"july\" | \"maintenance\" | \"disability\" | \"vasoconstrictor\" | \"history\" | \"agent\" | \"propylene\" | \"development\" | \"firm\" | \"gland\" | \"want\" | \"butane\" | \"metabolism\" | \"wipes\" | \"activities\" | \"clonidine\" | \"lanolin\" | \"betnovatec\" | \"all\" | \"purpose\" | \"denmark\" | \"d13342\" | \"phenomenon\" | \"detail\" | \"determination\" | \"vertigo\" | \"nj\" | \"identity\" | \"see\" | \"reduces\" | \"empty\" | \"timolol\" | \"away\" | \"brain\" | \"damage\" | \"bloodsugar\" | \"overfill\" | \"medical\" | \"performance\" | \"stated\" | \"foaming\" | \"depersonalization\" | \"soreness\" | \"events\" | \"thoughts\" | \"cetomacrogol\" | \"denotes\" | \"yes\" | \"noises\" | \"infants\" | \"worsening\" | \"ep\" | \"talk\" | \"selfadministration\" | \"acth\" | \"insert\" | \"accordance\" | \"herpes\" | \"confusion\" | \"evans\" | \"diluent\" | \"couple\" | \"may\" | \"step\" | \"male\" | \"syringe\" | \"valerate\" | \"forefinger\" | \"field\" | \"sleep\" | \"betablockers\" | \"soon\" | \"apply\" | \"glycol\" | \"ambulatory\" | \"rectal\" | \"disorientation\" | \"warm\" | \"sharp\" | \"powder\" | \"months\" | \"hertford\" | \"berlin\" | \"seizures\" | \"chlorocresol\" | \"plunger\" | \"cytokines\" | \"carmine\" | \"bone\" | \"wipe\" | \"exceed\" | \"fingers\" | \"dysfunction\" | \"feels\" | \"past\" | \"salbutamol\" | \"sleeping\" | \"leatherhead\" | \"fabric\" | \"adrenaline\" | \"occurrence\" | \"scalp\" | \"material\" | \"palm\" | \"marrow\" | \"necrosis\" | \"saucer\" | \"suicidal\" | \"stearyl\" | \"betaadrenergicreceptor\" | \"mater\" | \"trunk\" | \"northumberland\" | \"lowers\" | \"occurs\" | \"diuretics\" | \"whitehouse\" | \"count\" | \"cell\" | \"fire\" | \"h\" | \"aluminium\" | \"interferon\" | \"betalb\" | \"supervision\" | \"ointment\" | \"guidance\" | \"liverpool\" | \"raynaud\" | \"eczema\" | \"station\" | \"isoprenaline\" | \"cetostearyl\" | \"impetigo\" | \"reconstitution\" | \"rosacea\" | \"trademark\" | \"annex\" | \"vomiting\" | \"sclerosis\" | \"cause\" | \"ances\" | \"clean\" | \"ears\" | \"betim\" | \"squat\" | \"celldeath\" | \"note\" | \"digitalis\" | \"bend\" | \"attempts\" | \"thumb\" | \"chemistry\" | \"instability\" | \"compartment\" | \"occasion\" | \"appointment\" | \"work\" | \"ignition\" | \"cytochrome\" | \"suicide\" | \"foot\" | \"migraine\" | \"his/her\" | \"glaxo\" | \"automobile\" | \"danger\" | \"piece\" | \"applicator\" | \"builders\" | \"dressing\" | \"msd\" | \"anaesthesia\" | \"using\" | \"fingertip\" | \"dressings\" | \"irritation\" | \"anxiety\" | \"hoddesdon\" | \"visit\" | \"section\" | \"straight\" | \"stains\" | \"propane\" | \"disorder\" | \"stockley\" | \"lactation\" | \"shotton\" | \"industry\" | \"carefully\" | \"cns\" | \"until\" | \"guanethidine\" | \"touches\" | \"soap\" | \"combination\" | \"wash\" | \"base\" | \"blocadren\" | \"leo\" | \"relapses\" | \"asthmalung\" | \"proteins\" | \"it\" | \"libraries\" | \"disopyramide\" | \"ethanol\" | \"dosages\" | \"attention\" | \"betamethasone\" | \"corticoids\" | \"prescribes\" | \"guard\" | \"cord\" | \"passage\" | \"tube\" | \"flame\" | \"lack\" | \"applies\" | \"merck\" | \"back\" | \"industries\" | \"matter\" | \"presentations\" | \"equipment\" | \"psoriasis\" | \"numbness\" | \"bettamousse\" | \"cream\" | \"guide\" | \"experience\" | \"progression\" | \"below\" | \"betnovate\" | \"beta1b\" | \"system\" | \"barrel\" | \"feelings\" | \"disposal\" | \"cotton\" | \"clioquinol\" | \"cannot\" | \"betaferonsodium\" | \"addison\" | \"maize\" | \"group\" | \"operation\" | \"covingham\"\n",
      "N[NUM=pl] -> \"pens\" | \"inhibitors\" | \"coughs\" | \"problems\" | \"forms\" | \"immunosuppressants\" | \"vials\" | \"patients\" | \"sites\" | \"glands\" | \"meals\" | \"periods\" | \"doctors\" | \"things\" | \"appointments\" | \"children\" | \"blockers\" | \"places\" | \"warnings\" | \"beats\" | \"ingredients\" | \"contractions\" | \"insulins\" | \"women\" | \"changes\" | \"cocoa\" | \"scar\" | \"bathroom\" | \"sweating\" | \"contraceptives\" | \"hypoglycaemia\" | \"dosage\" | \"marks\" | \"minutes\" | \"ingredients\" | \"interactions\" | \"steroids\" | \"corticosteroids\" | \"physicians\" | \"relatives\" | \"overgrowths\" | \"studies\" | \"disorders\" | \"contraindications\" | \"tuberculosis\" | \"circuits\" | \"reeds\" | \"friends\" | \"facilities\" | \"pharmacies\" | \"shows\" | \"eyes\" | \"units\" | \"minutes\" | \"pains\" | \"responses\" | \"tablets\" | \"caps\" | \"seconds\" | \"investigations\" | \"ketones\" | \"muscles\" | \"bubbles\" | \"legs\" | \"pins\" | \"joints\" | \"studies\" | \"steroids\" | \"conditions\" | \"quantities\" | \"drugs\" | \"tachycardias\" | \"hormones\" | \"diseases\" | \"levels\" | \"minutes\" | \"people\" | \"medicines\" | \"requirements\" | \"questions\" | \"sideeffects\" | \"bone\" | \"fractures\" | \"sons\" | \"persons\" | \"supplies\" | \"techniques\" | \"injections\" | \"indications\" | \"packs\" | \"heartbeats\" | \"turns\" | \"sideeffects\" | \"headaches\" | \"rashes\" | \"breaks\" | \"tests\" | \"arms\" | \"wounds\" | \"feet\" | \"emergencies\" | \"numbers\" | \"interactions\" | \"results\" | \"kidneys\" | \"times\" | \"days\" | \"risks\" | \"effects\" | \"leaflets\" | \"degrees\" | \"periods\" | \"scales\" | \"painkillers\" | \"clots\" | \"hands\" | \"assessments\" | \"treatments\" | \"enzymes\" | \"addresses\" | \"sites\" | \"associations\" | \"alcohols\" | \"transfers\" | \"syndromes\" | \"nodes\" | \"bowels\" | \"stresses\" | \"increments\" | \"caps\" | \"cases\" | \"groups\" | \"tests\" | \"disturbances\" | \"always\" | \"lumps\" | \"feet\" | \"numbers\" | \"emergencies\" | \"nose\" | \"tb\" | \"hands\" | \"epilepsies\" | \"rings\" | \"pacing\" | \"wounds\" | \"arms\" | \"legs\" | \"pins\" | \"tests\" | \"hunger\" | \"palpitations\" | \"symptoms\" | \"effects\" | \"leaflets\" | \"tests\" | \"examples\" | \"examples\" | \"substances\" | \"undesirables\" | \"recordings\" | \"interactions\" | \"diabetic tests\" | \"diseases\" | \"packaging\" | \"effects\" | \"problems\" | \"diabetes\" | \"agents\" | \"families\" | \"medications\" | \"syrups\" | \"symptoms\" | \"reactions\" | \"parents\" | \"bottles\" | \"capsules\" | \"areas\" | \"ways\" | \"steps\" | \"contents\" | \"sores\" | \"sore\" | \"responses\" | \"details\" | \"instances\" | \"weeks\" | \"barbiturates\" | \"cuts\" | \"reports\" | \"vaccinations\" | \"infections\" | \"athletes\" | \"drops\" | \"creams\" | \"enzymes\" | \"hospitalizations\" | \"bacteria\" | \"chemicals\" | \"blackouts\" | \"books\" | \"swelling\" | \"tasks\" | \"stoppers\" | \"books\" | \"situations\" | \"swelling\" | \"results\" | \"items\" | \"results\" | \"hallucinations\" | \"measures\" | \"parts\" | \"syringes\" | \"speke\" | \"gloves\" | \"dermatoses\" | \"diuretics\" | \"lungs\" | \"depressions\" | \"bottles\" | \"ointments\" | \"stings\" | \"substances\" | \"difficulties\" | \"products\" | \"ears\" | \"damages\" | \"attempts\" | \"tops\" | \"wrapping\" | \"upsets\" | \"decreases\" | \"piles\" | \"stains\" | \"disorder\" | \"containers\" | \"attacks\" | \"relapses\" | \"libraries\" | \"dosages\" | \"prescribes\" | \"industries\" | \"presentations\" | \"equipment\" | \"feelings\" | \"disposal\" | \"cotton\" | \"doses\" | \"strengths\"\n",
      "N[NUM=?n] -> \"after\" | \"babys\" | \"qcan\" | \"you\" | \"not\" | \"ago\" | \"before\" | \"time\" | \"after\" | \"your\" | \"sure\" | \"failure\" | \"need\" | \"converting\" | \"not\" | \"before\" | \"you\" | \"after\" | \"your\" | \"sure\" | \"not\" | \"before\" | \"you\" | \"after\" | \"your\" | \"sure\" | \"something\" | \"anyone\" | \"you\" | \"something\" | \"please\" | \"well\" | \"not\" | \"while\" | \"you\" | \"someone\" | \"please\" | \"then\" | \"now\" | \"others\" | \"about\" | \"and/or\" | \"about\" | \"any\" | \"now\" | \"history\" | \"swelling\" | \"#NAME?\" | \"w/w\" | \"inc\" | \"h\" | \"as\" | \"before\" | \"is\" | \"then\" | \"and\" | \"if\" | \"until\" | \"it\" | \"addisons\" | \"childs\"\n",
      "to -> \"to\"\n",
      "ex -> \"there\"\n",
      "rp -> \"off\" | \"up\" | \"down\" | \"out\" | \"over\" | \"back\" | \"away\"\n",
      "uh -> \"yes\"\n",
      "md -> \"might\" | \"may\" | \"would\" | \"qshould\" | \"should\" | \"can\" | \"must\" | \"will\" | \"could\"\n",
      "wp -> \"whereas\" | \"which\" | \"when\" | \"where\" | \"who\" | \"how\" | \"what\" | \"wash\" | \"why\" | \"that\" | \"whichever\" | \"whose\"\n",
      "conj -> \"but\" | \"&\" | \"nor\" | \"bradycardia\" | \"or\" | \"neither\" | \"and\" | \"steroid\" | \"either\"\n",
      "prep -> \"into\" | \"between\" | \"until\" | \"whether\" | \"over\" | \"during\" | \"with\" | \"as\" | \"through\" | \"before\" | \"except\" | \"since\" | \"unless\" | \"around\" | \"opposite\" | \"qwhat\" | \"upon\" | \"breast\" | \"within\" | \"allow\" | \"although\" | \"worse\" | \"in\" | \"so\" | \"awhile\" | \"onto\" | \"while\" | \"for\" | \"that\" | \"if\" | \"because\" | \"at\" | \"via\" | \"below\" | \"aremind\" | \"up\" | \"on\" | \"of\" | \"than\" | \"under\" | \"near\" | \"by\" | \"above\" | \"down\" | \"about\" | \"without\" | \"out\" | \"whilst\" | \"press\" | \"after\" | \"tells\" | \"from\" | \"per\" | \"like\" | \"behind\" | \"amongst\" | \"#NAME?\" | \"wipe\" | \"toward\" | \"past\" | \"turn\" | \"find\" | \"throughout\" | \"against\" | \"despite\" | \"inside\" | \"overuse\" | \"unscrew\" | \"including\"\n",
      "cd -> \"17230005\" | \"20\" | \"one\" | \"1\" | \"2\" | \"78\" | \"25mg\" | \"18\" | \"1qw\" | \"10m\" | \"5ml\" | \"301227\" | \"12\" | \"150mg\" | \"810121416\" | \"10mgml\" | \"125mgpl\" | \"125mg\" | \"45352\" | \"3\" | \"140\" | \"340300\" | \"6\" | \"375\" | \"1995c80002gb68005d1295\" | \"2Â°\" | \"25Â°c\" | \"3ja\" | \"340299\" | \"8\" | \"1994\" | \"three\" | \"340298\" | \"50mg\" | \"triamcinolone\" | \"0\" | \"100mg\" | \"12mg\" | \"30\" | \"40\" | \"25mgpl\" | \"5\" | \"4\" | \"25C/77F\" | \"75mg\" | \"4ys\" | \"625mg\" | \"378\" | \"60\" | \"10\" | \"8Â°c\" | \"50mgpl\" | \"80\" | \"25\" | \"0bd\" | \"5\" | \"two\" | \"1995\" | \"52\" | \"1992\" | \"100\" | \"9\" | \"8roadwater\" | \"6000\" | \"25Â°c77Â°f\" | \"112040038/1\" | \"125\" | \"5hr\" | \"11pm\" | \"7\" | \"1988\" | \"125\" | \"500\" | \"4eu\" | \"9bd\" | \"39670\" | \"58z\" | \"250\" | \"56\" | \"61118\" | \"3pm\" | \"1989\" | \"25mgcse\" | \"7am\" | \"43132\" | \"15\" | \"9rr\" | \"seven\" | \"3\" | \"five\" | \"12\" | \"six\" | \"132\" | \"25\" | \"48\" | \"60Â°c\" | \"million\" | \"24\" | \"1\" | \"45632\" | \"1009\" | \"54\" | \"5\" | \"7pq\" | \"102\" | \"12\" | \"1000\" | \"96\" | \"25\" | \"25c\" | \"3\" | \"54\" | \"hp27\" | \"5\" | \"1\" | \"12\" | \"612\" | \"012w/w\" | \"25c\" | \"218\" | \"77f\" | \"25c/77f\"\n",
      "adj -> \"second\" | \"systemic\" | \"hot\" | \"few\" | \"isotonic\" | \"ml\" | \"255\" | \"highlevel\" | \"limited\" | \"low\" | \"higher\" | \"slight\" | \"liquid\" | \"electrophysiological\" | \"continued\" | \"important\" | \"recent\" | \"supraventricular\" | \"reservoir\" | \"healthy\" | \"careful\" | \"great\" | \"less\" | \"better\" | \"double\" | \"neutral\" | \"*\" | \"sterile\" | \"accessory\" | \"potassium\" | \"expiry\" | \"useful\" | \"thoracic\" | \"detailed\" | \"due\" | \"full\" | \"hepatic\" | \"joint\" | \"inflammatory\" | \"atrial\" | \"adenoscan\" | \"metallic\" | \"upset\" | \"next\" | \"available\" | \"such\" | \"anxious\" | \"other\" | \"repeated\" | \"reentry\" | \"self\" | \"smaller\" | \"added\" | \"shortacting\" | \"strong\" | \"irregular\" | \"captopril\" | \"much\" | \"therapeutic\" | \"severe\" | \"light\" | \"dry\" | \"clear\" | \"maximum\" | \"broad\" | \"natural\" | \"intravenous\" | \"larger\" | \"glau\" | \"more\" | \"own\" | \"suggested\" | \"consciousness\" | \"thin\" | \"colourless\" | \"active\" | \"medicine\" | \"thickened\" | \"nipple\" | \"adenosine\" | \"28522\" | \"ventricular\" | \"anomalous\" | \"steroid\" | \"moderate\" | \"present\" | \"disposable\" | \"unsure\" | \"visual\" | \"physical\" | \"515\" | \"high\" | \"frequent\" | \"correct\" | \"mild\" | \"intramuscular\" | \"temporary\" | \"locked\" | \"dose\" | \"uncontrolled\" | \"weak\" | \"early\" | \"sick\" | \"rare\" | \"artificial\" | \"triamcinolone\" | \"empty\" | \"right\" | \"stearic\" | \"safe\" | \"down\" | \"swollen\" | \"effective\" | \"write\" | \"intracavitary\" | \"renal\" | \"urine\" | \"increased\" | \"elderly\" | \"medical\" | \"actrapid\" | \"able\" | \"same\" | \"lower\" | \"fold\" | \"pregnant\" | \"further\" | \"diabetic\" | \"many\" | \"unscrewed\" | \"dosage\" | \"dental\" | \"excess\" | \"abdominal\" | \"little\" | \"brittle\" | \"inner\" | \"similar\" | \"wrong\" | \"head\" | \"unwanted\" | \"insulinrequiring\" | \"common\" | \"first\" | \"benzyl\" | \"short\" | \"urinary\" | \"your\" | \"last\" | \"fast\" | \"third\" | \"antiinflammatory\" | \"sure\" | \"used\" | \"scan\" | \"usual\" | \"fatty\" | \"insulin\" | \"rheumatoid\" | \"least\" | \"likely\" | \"glucose\" | \"normal\" | \"paroxysmal\" | \"bronchial\" | \"several\" | \"foetal\" | \"animal\" | \"new\" | \"troublesome\" | \"side\" | \"possible\" | \"premature\" | \"human\" | \"extra\" | \"reestablished\" | \"surrounding\" | \"dangerous\" | \"tendon\" | \"exogenous\" | \"42125\" | \"wise\" | \"203\" | \"certain\" | \"close\" | \"2505\" | \"shortest\" | \"small\" | \"protective\" | \"facial\" | \"reversible\" | \"mental\" | \"thirsty\" | \"pen\" | \"daily\" | \"lightheaded\" | \"slow\" | \"particular\" | \"observed\" | \"half\" | \"rapid\" | \"opposite\" | \"allergic\" | \"registered\" | \"vial\" | \"aware\" | \"inhaled\" | \"patient\" | \"total\" | \"torn\" | \"subsequent\" | \"advisable\" | \"asthmatic\" | \"141149\" | \"necessary\" | \"complex\" | \"most\" | \"cardiac\" | \"wv\" | \"regular\" | \"nodal\" | \"childbearing\" | \"personal\" | \"highest\" | \"sinus\" | \"damp\" | \"identical\" | \"female\" | \"known\" | \"thyroid\" | \"narrow\" | \"45353\" | \"various\" | \"essential\" | \"following\" | \"breastfeeding\" | \"oral\" | \"mixed\" | \"nearest\" | \"diagnostic\" | \"above\" | \"chest\" | \"contraindicated\" | \"required\" | \"special\" | \"pharmaceutical\" | \"sufficient\" | \"initial\" | \"subcutaneous\" | \"divided\" | \"different\" | \"longterm\" | \"ulcer\" | \"long\" | \"operate\" | \"greater\" | \"push\" | \"degree\" | \"single\" | \"clean\" | \"dialadose\" | \"easier\" | \"needle\" | \"skin\" | \"lactose\" | \"gradual\" | \"43132\" | \"white\" | \"colic\" | \"acceptable\" | \"ill\" | \"weaker\" | \"sole\" | \"soluble\" | \"adrenal\" | \"antiasthma\" | \"previous\" | \"best\" | \"large\" | \"sodium\" | \"brittle/weak\" | \"transient\" | \"complete\" | \"2737\" | \"inactive\" | \"bacterial\" | \"s\" | \"leftover\" | \"colloidal\" | \"local\" | \"suitable\" | \"specific\" | \"equivalent\" | \"bad\" | \"pancreatic\" | \"nifedipine\" | \"cool\" | \"hypoglycaemic\" | \"azo\" | \"prominent\" | \"amoxycillin\" | \"unsuitable\" | \"breast\" | \"bowel\" | \"aortic\" | \"antidepressant\" | \"alternate\" | \"cold\" | \"child\" | \"tween\" | \"biconvex\" | \"antiulcer\" | \"thinner\" | \"angina\" | \"original\" | \"unusual\" | \"difficult\" | \"thicker\" | \"depressed\" | \"cortisyl\" | \"weight\" | \"happy\" | \"purified\" | \"feel\" | \"undesirable\" | \"epileptic\" | \"minor\" | \"surgical\" | \"abnormal\" | \"spontaneous\" | \"antibiotic\" | \"prescribed\" | \"twelve\" | \"red\" | \"discard\" | \"nonproprietary\" | \"foreign\" | \"paediatric\" | \"coronary\" | \"breastfed\" | \"recombinant\" | \"anaesthetic\" | \"chloride\" | \"depressive\" | \"indigo\" | \"past\" | \"inflamed\" | \"public\" | \"selfinjection\" | \"appropriate\" | \"nozzle\" | \"sized\" | \"airtight\" | \"reconstituted\" | \"muscular\" | \"inadequate\" | \"resulting\" | \"updated\" | \"circular\" | \"unused\" | \"scalp\" | \"biological\" | \"negative\" | \"2ml\" | \"migraine\" | \"relapsefree\" | \"cetyl\" | \"topical\" | \"enlarged\" | \"suicidal\" | \"helpful\" | \"betnovatec\" | \"differential\" | \"soft\" | \"prepared\" | \"relapsingremitting\" | \"central\" | \"middle\" | \"treated\" | \"anabolic\" | \"earlier\" | \"cramplike\" | \"flat\" | \"nonspecific\" | \"naked\" | \"responsible\" | \"contraceptive\" | \"28Â°c\" | \"seborrhoeic\" | \"nervous\" | \"unlikely\" | \"serum\" | \"monamine\" | \"reduced\" | \"private\" | \"lifethreatening\" | \"blue\" | \"emotional\" | \"clinical\" | \"timolol\" | \"wear\" | \"incomplete\" | \"unknown\" | \"longer\" | \"lignocaine\" | \"freezing\" | \"accidental\" | \"halfscored\" | \"older\" | \"21gauge\" | \"responsive\" | \"social\" | \"equal\" | \"fungal\" | \"direct\" | \"antiepileptic\" | \"affected\" | \"worse\" | \"related\" | \"slower\" | \"27gauge\" | \"serious\" | \"spinal\" | \"professional\" | \"use\" | \"neurologic\" | \"scored\" | \"ointment\" | \"moist\" | \"bloated\" | \"herpes\" | \"fresh\" | \"thrush\" | \"diluent\" | \"stable\" | \"perioral\" | \"progressive\" | \"rough\" | \"antibacterial/antifungal\" | \"fourteen\" | \"preservative\" | \"valerate\" | \"menstrual\" | \"british\" | \"unwell\" | \"tube\" | \"calculated\" | \"sleep\" | \"lumps\" | \"catecholamidedepleting\" | \"multiple\" | \"painful\" | \"back\" | \"citric\" | \"neutralising\" | \"main\" | \"golfball\" | \"#NAME?\" | \"anhydrous\" | \"incandescent\" | \"rectal\" | \"pressurised\" | \"undergoing\" | \"ready\" | \"flammable\" | \"beta1b\" | \"general\" | \"fewer\" | \"45478\" | \"exact\" | \"adverse\" | \"liver\" | \"preexisting\" | \"comfortable\" | \"premenopausal\"\n",
      "adv -> \"normally\" | \"preferably\" | \"better\" | \"so\" | \"proximally\" | \"intravenously\" | \"again\" | \"never\" | \"permanently\" | \"only\" | \"transiently\" | \"simply\" | \"just\" | \"abruptly\" | \"much\" | \"directly\" | \"very\" | \"approximately\" | \"subcutaneously\" | \"all\" | \"frequently\" | \"more\" | \"also\" | \"completely\" | \"already\" | \"sometimes\" | \"early\" | \"sore\" | \"not\" | \"recently\" | \"commonly\" | \"nursebefore\" | \"horizontally\" | \"start\" | \"firmly\" | \"however\" | \"far\" | \"procainamide\" | \"therefore\" | \"carefully\" | \"absolutely\" | \"fully\" | \"as\" | \"actually\" | \"first\" | \"gently\" | \"still\" | \"else\" | \"usually\" | \"now\" | \"deeply\" | \"typically\" | \"probably\" | \"freely\" | \"ever\" | \"especially\" | \"even\" | \"rarely\" | \"often\" | \"then\" | \"similarly\" | \"there\" | \"nevertheless\" | \"generally\" | \"eventually\" | \"naturally\" | \"unusually\" | \"seriously\" | \"daily\" | \"too\" | \"soon\" | \"always\" | \"back\" | \"nose\" | \"prior\" | \"most\" | \"immediately\" | \"twice\" | \"acetonide\" | \"once\" | \"well\" | \"exactly\" | \"particularly\" | \"long\" | \"talc\" | \"effectively\" | \"instead\" | \"before\" | \"up\" | \"evenly\" | \"tightly\" | \"alternatively\" | \"best\" | \"almost\" | \"unwell\" | \"longer\" | \"quickly\" | \"maybe\" | \"no\" | \"quickly/abruptly\" | \"perhaps\" | \"easily\" | \"gradually\" | \"accidentally\" | \"badly\" | \"mainly\" | \"slightly\" | \"previously\" | \"altogether\" | \"safely\" | \"occasionally\" | \"thirst\" | \"otherwise\" | \"regularly\" | \"eg\" | \"store\" | \"temporarily\" | \"faster\" | \"asleep\" | \"yet\" | \"widely\" | \"either\" | \"upside\" | \"monthly\" | \"inadequately\" | \"forward\" | \"suddenly\" | \"#NAME?\" | \"notice\" | \"slowly\" | \"down\" | \"straight\" | \"away\" | \"possibly\" | \"little\" | \"closely\" | \"rapidly\" | \"nearly\" | \"promptly\" | \"properly\" | \"hydrochloride\" | \"clearly\" | \"acid\" | \"inside\" | \"later\" | \"extremely\" | \"thoroughly\" | \"abnormally\" | \"sufficiently\" | \"theoretically\" | \"sparingly\" | \"together\"\n"
     ]
    }
   ],
   "source": [
    "from nltk.grammar import FeatureGrammar\n",
    "from nltk.parse import FeatureEarleyChartParser\n",
    "\n",
    "terminal_grammar_string = \"\"\n",
    "\n",
    "with open(\"../Grammar/Terminal_Grammar.txt\",'r',encoding='latin-1') as file:\n",
    "    terminal_grammar_string = file.read()\n",
    "\n",
    "print(terminal_grammar_string)"
   ]
  },
  {
   "cell_type": "markdown",
   "metadata": {},
   "source": [
    "## Non Terminal Grammar"
   ]
  },
  {
   "cell_type": "code",
   "execution_count": 10,
   "metadata": {},
   "outputs": [
    {
     "name": "stdout",
     "output_type": "stream",
     "text": [
      "S -> NP1[NUM=?n] VP1[NUM=?n,PERSON=?p] | NP1[NUM=?n] VP1[NUM=?n,PERSON=?p] PP1 | VP1[NUM=?n,PERSON=?p] NP1[NUM=?n] | NP1[NUM=?n] VP1[NUM=?n,PERSON=?p] conj NP1[NUM=?n] VP1[NUM=?n,PERSON=?p] | NP1[NUM=?n] md NP1[NUM=?n] VP1[NUM=?n,PERSON=?p] | NP1[NUM=?n] | VP1[NUM=?n,PERSON=?p] | PP1 | CDP\n",
      "NP1[NUM=?n] -> NP2[NUM=?n] NP2[NUM=?n] | NP2[NUM=?n] | NP2[NUM=pl] NP2[NUM=sg] | NP2[NUM=sg] NP2[NUM=pl]\n",
      "NP2[NUM=?n] -> det[NUM=?n] N[NUM=?n] | det[NUM=?n] adjP N[NUM=?n] | N[NUM=?n] | N[NUM=?n] N[NUM=?n] | N[NUM=?n] CDP | CDP N[NUM=?n] | N[NUM=?n] PP2 | N[NUM=?n] PP2 | adjP NP2[NUM=?n] | wp NP2[NUM=?n] | N[NUM=?n] conj N[NUM=?n] | prp[PERSON=?p, NUM=?n] N[NUM=?n] | prp[PERSON=?p, NUM=?n] NP2[NUM=?n] | NP2[NUM=?n] conj NP2[NUM=?n] | N[NUM=sg] N[NUM=pl] | N[NUM=pl] N[NUM=sg] | N[NUM=pl] conj N[NUM=sg] | N[NUM=sg] conj N[NUM=pl] | NP2[NUM=pl] conj NP2[NUM=sg] | NP2[NUM=sg] conj NP2[NUM=pl]\n",
      "VP1[NUM=?n,PERSON=?p] -> VP2[NUM=?n,PERSON=?p] VP2[NUM=?n,PERSON=?p] | VP2[NUM=?n,PERSON=?p] | VP2[NUM=?n,PERSON=?p] NP2[NUM=?n] | VP2[NUM=?n,PERSON=?p] NP1[NUM=?n] | NP1[NUM=?n] VP2[NUM=?n,PERSON=?p]\n",
      "VP2[NUM=?n,PERSON=?p] -> V[NUM=?n,PERSON=?p] | V[NUM=?n,PERSON=?p] V[NUM=?n,PERSON=?p] | to V[NUM=?n,PERSON=?p] | V[NUM=?n,PERSON=?p] advP | advP V[NUM=?n,PERSON=?p] | VP2[NUM=?n,PERSON=?p] advP | advP VP2[NUM=?n,PERSON=?p] | wp VP2[NUM=?n,PERSON=?p] | wp advP | prp[NUM=?n,PERSON=?p] V[NUM=?n,PERSON=?p] | prp[NUM=?n,PERSON=?p] VP2[NUM=?n,PERSON=?p] | prp[NUM=?n,PERSON=?p] md | wp md | wp VP2[NUM=?n,PERSON=?p] | md V[NUM=?n,PERSON=?p] | VP2[NUM=?n,PERSON=?p] conj PP2 | PP2 VP2[NUM=?n,PERSON=?p] | VP2[NUM=?n,PERSON=?p] conj VP2[NUM=?n,PERSON=?p] | VP2[NUM=?n,PERSON=?p] adjP | V[NUM=?n,PERSON=?p] NP2[NUM=?n] | V[NUM=?n,PERSON=?p] NP2[NUM=?n] PP2 | N[NUM=?n] advP | advP N[NUM=?n] | NP2[NUM=?n] advP | N[NUM=?n] md | NP2[NUM=?n] md | VP2[NUM=?n,PERSON=?p] conj NP2[NUM=?n]  | NP2[NUM=?n] md VP2[NUM=?n,PERSON=?p] | NP2[NUM=?n] md NP2[NUM=?n] | VP2[NUM=sg] conj VP2[NUM=pl] | VP2[NUM=pl] conj VP2[NUM=sg] | VP2[NUM=sg] conj NP2[NUM=pl] | VP2[NUM=pl] conj NP2[NUM=sg]\n",
      "PP1 -> PP2 PP2 | PP2\n",
      "PP2 -> prep NP2[NUM=?n] | prep VP2[NUM=?n,PERSON=?p] | VP2[NUM=?n,PERSON=?p] prep VP2[NUM=?n,PERSON=?p] | prep adv | adjP prep | prep cd | prep det[NUM=?n]\n",
      "CDP -> adv cd | adj cd | cd cd | cd\n",
      "adjP -> adj | adj conj adj | adj adj\n",
      "advP -> adv | adv adv | adv conj adv\n",
      "\n"
     ]
    }
   ],
   "source": [
    "S = \"S -> NP1[NUM=?n] VP1[NUM=?n,PERSON=?p] | NP1[NUM=?n] VP1[NUM=?n,PERSON=?p] PP1 | VP1[NUM=?n,PERSON=?p] NP1[NUM=?n] | NP1[NUM=?n] VP1[NUM=?n,PERSON=?p] conj NP1[NUM=?n] VP1[NUM=?n,PERSON=?p] | NP1[NUM=?n] md NP1[NUM=?n] VP1[NUM=?n,PERSON=?p] | NP1[NUM=?n] | VP1[NUM=?n,PERSON=?p] | PP1 | CDP\"\n",
    "\n",
    "NP1 = \"NP1[NUM=?n] -> NP2[NUM=?n] NP2[NUM=?n] | NP2[NUM=?n] | \"\n",
    "NP1 += \"NP2[NUM=pl] NP2[NUM=sg] | NP2[NUM=sg] NP2[NUM=pl]\"\n",
    "\n",
    "NP2 = \"NP2[NUM=?n] -> det[NUM=?n] N[NUM=?n] | det[NUM=?n] adjP N[NUM=?n] | N[NUM=?n] | N[NUM=?n] N[NUM=?n] | N[NUM=?n] CDP | CDP N[NUM=?n] | N[NUM=?n] PP2 | N[NUM=?n] PP2 | adjP NP2[NUM=?n] | wp NP2[NUM=?n] | N[NUM=?n] conj N[NUM=?n] | prp[PERSON=?p, NUM=?n] N[NUM=?n] | prp[PERSON=?p, NUM=?n] NP2[NUM=?n] | NP2[NUM=?n] conj NP2[NUM=?n] | \"\n",
    "NP2 += \"N[NUM=sg] N[NUM=pl] | N[NUM=pl] N[NUM=sg] | N[NUM=pl] conj N[NUM=sg] | N[NUM=sg] conj N[NUM=pl] | NP2[NUM=pl] conj NP2[NUM=sg] | NP2[NUM=sg] conj NP2[NUM=pl]\"\n",
    "\n",
    "VP1 = \"VP1[NUM=?n,PERSON=?p] -> VP2[NUM=?n,PERSON=?p] VP2[NUM=?n,PERSON=?p] | VP2[NUM=?n,PERSON=?p] | VP2[NUM=?n,PERSON=?p] NP2[NUM=?n] | VP2[NUM=?n,PERSON=?p] NP1[NUM=?n] | NP1[NUM=?n] VP2[NUM=?n,PERSON=?p]\"\n",
    "\n",
    "VP2 = \"VP2[NUM=?n,PERSON=?p] -> V[NUM=?n,PERSON=?p] | V[NUM=?n,PERSON=?p] V[NUM=?n,PERSON=?p] | to V[NUM=?n,PERSON=?p] | V[NUM=?n,PERSON=?p] advP | advP V[NUM=?n,PERSON=?p] | VP2[NUM=?n,PERSON=?p] advP | advP VP2[NUM=?n,PERSON=?p] | wp VP2[NUM=?n,PERSON=?p] | wp advP | \"\n",
    "VP2 += \"prp[NUM=?n,PERSON=?p] V[NUM=?n,PERSON=?p] | prp[NUM=?n,PERSON=?p] VP2[NUM=?n,PERSON=?p] | prp[NUM=?n,PERSON=?p] md | wp md | wp VP2[NUM=?n,PERSON=?p] | md V[NUM=?n,PERSON=?p] | VP2[NUM=?n,PERSON=?p] conj PP2 | PP2 VP2[NUM=?n,PERSON=?p] | VP2[NUM=?n,PERSON=?p] conj VP2[NUM=?n,PERSON=?p] | VP2[NUM=?n,PERSON=?p] adjP | \"\n",
    "VP2 += \"V[NUM=?n,PERSON=?p] NP2[NUM=?n] | V[NUM=?n,PERSON=?p] NP2[NUM=?n] PP2 | N[NUM=?n] advP | advP N[NUM=?n] | NP2[NUM=?n] advP | N[NUM=?n] md | NP2[NUM=?n] md | VP2[NUM=?n,PERSON=?p] conj NP2[NUM=?n]  | NP2[NUM=?n] md VP2[NUM=?n,PERSON=?p] | NP2[NUM=?n] md NP2[NUM=?n] | \"\n",
    "VP2 += \"VP2[NUM=sg] conj VP2[NUM=pl] | VP2[NUM=pl] conj VP2[NUM=sg] | VP2[NUM=sg] conj NP2[NUM=pl] | VP2[NUM=pl] conj NP2[NUM=sg]\"\n",
    "\n",
    "PP1 = \"PP1 -> PP2 PP2 | PP2\"\n",
    "PP2 = \"PP2 -> prep NP2[NUM=?n] | prep VP2[NUM=?n,PERSON=?p] | VP2[NUM=?n,PERSON=?p] prep VP2[NUM=?n,PERSON=?p] | prep adv | adjP prep | prep cd | prep det[NUM=?n]\"\n",
    "\n",
    "ADJP = \"adjP -> adj | adj conj adj | adj adj\"\n",
    "ADVP = \"advP -> adv | adv adv | adv conj adv\"\n",
    "CDP = \"CDP -> adv cd | adj cd | cd cd | cd\"\n",
    "\n",
    "non_terminal_grammar_string = \"\"\n",
    "non_terminal_list = [S,NP1,NP2,VP1,VP2,PP1,PP2,CDP,ADJP,ADVP]\n",
    "\n",
    "for x in non_terminal_list:\n",
    "    non_terminal_grammar_string += x + \"\\n\"\n",
    "\n",
    "print(non_terminal_grammar_string)"
   ]
  },
  {
   "cell_type": "code",
   "execution_count": 22,
   "metadata": {},
   "outputs": [
    {
     "name": "stdout",
     "output_type": "stream",
     "text": [
      "S -> NP1[NUM=?n] VP1[NUM=?n,PERSON=?p] | NP1[NUM=?n] VP1[NUM=?n,PERSON=?p] PP1 | VP1[NUM=?n,PERSON=?p] NP1[NUM=?n] | NP1[NUM=?n] VP1[NUM=?n,PERSON=?p] conj NP1[NUM=?n] VP1[NUM=?n,PERSON=?p] | NP1[NUM=?n] md NP1[NUM=?n] VP1[NUM=?n,PERSON=?p] | NP1[NUM=?n] | VP1[NUM=?n,PERSON=?p] | PP1 | CDP\n",
      "NP1[NUM=?n] -> NP2[NUM=?n] NP2[NUM=?n] | NP2[NUM=?n] | NP2[NUM=pl] NP2[NUM=sg] | NP2[NUM=sg] NP2[NUM=pl]\n",
      "NP2[NUM=?n] -> det[NUM=?n] N[NUM=?n] | det[NUM=?n] adjP N[NUM=?n] | N[NUM=?n] | N[NUM=?n] N[NUM=?n] | N[NUM=?n] CDP | CDP N[NUM=?n] | N[NUM=?n] PP2 | N[NUM=?n] PP2 | adjP NP2[NUM=?n] | wp NP2[NUM=?n] | N[NUM=?n] conj N[NUM=?n] | prp[PERSON=?p, NUM=?n] N[NUM=?n] | prp[PERSON=?p, NUM=?n] NP2[NUM=?n] | NP2[NUM=?n] conj NP2[NUM=?n] | N[NUM=sg] N[NUM=pl] | N[NUM=pl] N[NUM=sg] | N[NUM=pl] conj N[NUM=sg] | N[NUM=sg] conj N[NUM=pl] | NP2[NUM=pl] conj NP2[NUM=sg] | NP2[NUM=sg] conj NP2[NUM=pl]\n",
      "VP1[NUM=?n,PERSON=?p] -> VP2[NUM=?n,PERSON=?p] VP2[NUM=?n,PERSON=?p] | VP2[NUM=?n,PERSON=?p] | VP2[NUM=?n,PERSON=?p] NP2[NUM=?n] | VP2[NUM=?n,PERSON=?p] NP1[NUM=?n] | NP1[NUM=?n] VP2[NUM=?n,PERSON=?p]\n",
      "VP2[NUM=?n,PERSON=?p] -> V[NUM=?n,PERSON=?p] | V[NUM=?n,PERSON=?p] V[NUM=?n,PERSON=?p] | to V[NUM=?n,PERSON=?p] | V[NUM=?n,PERSON=?p] advP | advP V[NUM=?n,PERSON=?p] | VP2[NUM=?n,PERSON=?p] advP | advP VP2[NUM=?n,PERSON=?p] | wp VP2[NUM=?n,PERSON=?p] | wp advP | prp[NUM=?n,PERSON=?p] V[NUM=?n,PERSON=?p] | prp[NUM=?n,PERSON=?p] VP2[NUM=?n,PERSON=?p] | prp[NUM=?n,PERSON=?p] md | wp md | wp VP2[NUM=?n,PERSON=?p] | md V[NUM=?n,PERSON=?p] | VP2[NUM=?n,PERSON=?p] conj PP2 | PP2 VP2[NUM=?n,PERSON=?p] | VP2[NUM=?n,PERSON=?p] conj VP2[NUM=?n,PERSON=?p] | VP2[NUM=?n,PERSON=?p] adjP | V[NUM=?n,PERSON=?p] NP2[NUM=?n] | V[NUM=?n,PERSON=?p] NP2[NUM=?n] PP2 | N[NUM=?n] advP | advP N[NUM=?n] | NP2[NUM=?n] advP | N[NUM=?n] md | NP2[NUM=?n] md | VP2[NUM=?n,PERSON=?p] conj NP2[NUM=?n]  | NP2[NUM=?n] md VP2[NUM=?n,PERSON=?p] | NP2[NUM=?n] md NP2[NUM=?n] | VP2[NUM=sg] conj VP2[NUM=pl] | VP2[NUM=pl] conj VP2[NUM=sg] | VP2[NUM=sg] conj NP2[NUM=pl] | VP2[NUM=pl] conj NP2[NUM=sg]\n",
      "PP1 -> PP2 PP2 | PP2\n",
      "PP2 -> prep NP2[NUM=?n] | prep VP2[NUM=?n,PERSON=?p] | VP2[NUM=?n,PERSON=?p] prep VP2[NUM=?n,PERSON=?p] | prep adv | adjP prep | prep cd | prep det[NUM=?n]\n",
      "CDP -> adv cd | adj cd | cd cd | cd\n",
      "adjP -> adj | adj conj adj | adj adj\n",
      "advP -> adv | adv adv | adv conj adv\n",
      "det[NUM=sg] -> \"this\" | \"that\" | \"each\" | \"every\" | \"another\" | \"either\" | \"an\" | \"a\" | \"any\" | \"some\" | \"no\" | \"the\"\n",
      "det[NUM=pl] -> \"these\" | \"those\" | \"both\" | \"all\" | \"any\" | \"some\" | \"no\" | \"half\" | \"the\"\n",
      "pos[PERSON=3, NUM=sg] -> \"'s\" \n",
      "pos[PERSON=2, NUM=sg] -> \"'are\"\n",
      "pos[PERSON=?n, NUM=pl] -> \"'are\"\n",
      "prp[PERSON=1, NUM=sg] -> \"i\" | \"my\"\n",
      "prp[PERSON=1, NUM=pl] -> \"we\" | \"our\" | \"us\"\n",
      "prp[PERSON=2, NUM=?n] -> \"you\" | \"your\" | \"yourself\"\n",
      "prp[PERSON=3, NUM=sg] -> \"he\" | \"his\" | \"she\" | \"her\" | \"it\" | \"its\"\n",
      "prp[PERSON=3, NUM=pl] -> \"they\" | \"them\" | \"their\"\n",
      "V[NUM=sg, PERSON=1] -> \"was\" | \"have\" | \"become\" | \"let\" | \"advice\" | \"pass\" | \"want\" | \"receive\" | \"keep\" | \"want\" | \"discuss\" | \"store\" | \"exist\" | \"return\" | \"repeat\" | \"replace\" | \"result\" | \"change\" | \"distribute\" | \"store\" | \"see\" | \"forget\" | \"try\" | \"bear\" | \"intensify\" | \"do\" | \"miss\" | \"wear\" | \"set\" | \"contact\" | \"subject\" | \"increase\" | \"restore\" | \"deliver\" | \"alter\" | \"release\" | \"proceed\" | \"reach\" | \"treat\" | \"suffer\" | \"determine\" | \"worry\" | \"sit\" | \"remain\" | \"lose\" | \"help\" | \"stop\" | \"prepare\" | \"carry\" | \"persist\" | \"drop\" | \"produce\" | \"exceed\" | \"continue\" | \"worry\" | \"tell\" | \"lead\" | \"sit\" | \"raise\" | \"start\" | \"consult\" | \"include\" | \"respond\" | \"put\" | \"lead\" | \"rise\" | \"occur\" | \"respond\" | \"develop\" | \"lose\" | \"turn\" | \"come\" | \"vary\" | \"heal\" | \"help\" | \"stop\" | \"interact\" | \"like\" | \"collect\" | \"remember\" | \"cause\" | \"continue\" | \"estimate\" | \"add\" | \"know\" | \"monitor\" | \"notice\" | \"answer\" | \"breathe\" | \"get\" | \"lower\" | \"eat\" | \"screw\" | \"collect\" | \"remind\" | \"go\" | \"avoid\" | \"refrigerate\" | \"monitor\" | \"drive\" | \"recognise\" | \"prescribe\" | \"measure\" | \"notify\" | \"freeze\" | \"drink\" | \"eat\" | \"collect\" | \"remind\" | \"affect\" | \"require\" | \"improve\" | \"perform\" | \"disappear\" | \"refrigerate\" | \"notice\" | \"drive\" | \"answer\" | \"give\" | \"make\" | \"recognise\" | \"prescribe\" | \"measure\" | \"freeze\" | \"drink\" | \"do\" | \"take\" | \"catch\" | \"protect\" | \"hesitate\" | \"push\" | \"finish\" | \"shake\" | \"understand\" | \"show\" | \"evaluate\" | \"learn\" | \"experience\" | \"harm\" | \"settle\" | \"operate\" | \"appear\" | \"offer\" | \"prevent\" | \"obtain\" | \"mean\" | \"find\" | \"wrap\" | \"aid\" | \"remove\" | \"remember\" | \"impair\" | \"fall\" | \"interfere\" | \"deteriorate\" | \"end\" | \"skip\" | \"arrange\" | \"pour\" | \"fill\" | \"lack\" | \"swallow\" | \"transfer\" | \"run\" | \"bite\" | \"seem\" | \"gain\" | \"wish\" | \"grow\" | \"deal\" | \"decide\" | \"retain\" | \"wait\" | \"mention\" | \"assist\" | \"provide\" | \"inform\" | \"instruct\" | \"begin\" | \"walk\" | \"pull\" | \"squeeze\" | \"dribble\" | \"break\" | \"form\" | \"tear\" | \"sting\" | \"smoke\" | \"eject\" | \"rub\" | \"pierce\" | \"stain\" | \"dry\" | \"clear\" | \"note\" | \"detail\" | \"talk\" | \"explain\" | \"seek\" | \"draw\" | \"apply\" | \"play\" | \"control\" | \"depend\" | \"stand\" | \"move\" | \"adjust\" | \"throw\" | \"insert\" | \"foresee\" | \"massage\" | \"mix\" | \"burn\" | \"clean\" | \"prepare\" | \"undergo\" | \"wash\" | \"modify\" | \"ask\" | \"use\" | \"read\" | \"think\" | \"contain\" | \"buy\" | \"advise\" | \"balance\" | \"happen\"\n",
      "V[NUM=sg, PERSON=2] -> \"were\" | \"are\" | \"have\" | \"become\" | \"let\" | \"advice\" | \"pass\" | \"want\" | \"receive\" | \"keep\" | \"want\" | \"discuss\" | \"store\" | \"exist\" | \"return\" | \"repeat\" | \"replace\" | \"result\" | \"change\" | \"distribute\" | \"store\" | \"see\" | \"forget\" | \"try\" | \"bear\" | \"intensify\" | \"do\" | \"miss\" | \"wear\" | \"set\" | \"contact\" | \"subject\" | \"increase\" | \"restore\" | \"deliver\" | \"alter\" | \"release\" | \"proceed\" | \"reach\" | \"treat\" | \"suffer\" | \"determine\" | \"worry\" | \"sit\" | \"remain\" | \"lose\" | \"help\" | \"stop\" | \"prepare\" | \"carry\" | \"persist\" | \"drop\" | \"produce\" | \"exceed\" | \"continue\" | \"worry\" | \"tell\" | \"lead\" | \"sit\" | \"raise\" | \"start\" | \"consult\" | \"include\" | \"respond\" | \"put\" | \"lead\" | \"rise\" | \"occur\" | \"respond\" | \"develop\" | \"lose\" | \"turn\" | \"come\" | \"vary\" | \"heal\" | \"help\" | \"stop\" | \"interact\" | \"like\" | \"collect\" | \"remember\" | \"cause\" | \"continue\" | \"estimate\" | \"add\" | \"know\" | \"monitor\" | \"notice\" | \"answer\" | \"breathe\" | \"get\" | \"lower\" | \"eat\" | \"screw\" | \"collect\" | \"remind\" | \"go\" | \"avoid\" | \"refrigerate\" | \"monitor\" | \"drive\" | \"recognise\" | \"prescribe\" | \"measure\" | \"notify\" | \"freeze\" | \"drink\" | \"eat\" | \"collect\" | \"remind\" | \"affect\" | \"require\" | \"improve\" | \"perform\" | \"disappear\" | \"refrigerate\" | \"notice\" | \"drive\" | \"answer\" | \"give\" | \"make\" | \"recognise\" | \"prescribe\" | \"measure\" | \"freeze\" | \"drink\" | \"do\" | \"take\" | \"catch\" | \"protect\" | \"hesitate\" | \"push\" | \"finish\" | \"shake\" | \"understand\" | \"show\" | \"evaluate\" | \"learn\" | \"experience\" | \"harm\" | \"settle\" | \"operate\" | \"appear\" | \"offer\" | \"prevent\" | \"obtain\" | \"mean\" | \"find\" | \"wrap\" | \"aid\" | \"remove\" | \"remember\" | \"impair\" | \"fall\" | \"interfere\" | \"deteriorate\" | \"end\" | \"skip\" | \"arrange\" | \"pour\" | \"fill\" | \"lack\" | \"swallow\" | \"transfer\" | \"run\" | \"bite\" | \"seem\" | \"gain\" | \"wish\" | \"grow\" | \"deal\" | \"decide\" | \"retain\" | \"wait\" | \"mention\" | \"assist\" | \"provide\" | \"inform\" | \"instruct\" | \"begin\" | \"walk\" | \"pull\" | \"squeeze\" | \"dribble\" | \"break\" | \"form\" | \"tear\" | \"sting\" | \"smoke\" | \"eject\" | \"rub\" | \"pierce\" | \"stain\" | \"dry\" | \"clear\" | \"note\" | \"detail\" | \"talk\" | \"explain\" | \"seek\" | \"draw\" | \"apply\" | \"play\" | \"control\" | \"depend\" | \"stand\" | \"move\" | \"adjust\" | \"throw\" | \"insert\" | \"foresee\" | \"massage\" | \"mix\" | \"burn\" | \"clean\" | \"prepare\" | \"undergo\" | \"wash\" | \"modify\" | \"ask\" | \"use\" | \"read\" | \"think\" | \"contain\" | \"buy\" | \"advise\" | \"balance\" | \"happen\"\n",
      "V[NUM=pl, PERSON=?n] -> \"were\" | \"are\" | \"have\" | \"become\" | \"let\" | \"advice\" | \"pass\" | \"want\" | \"receive\" | \"keep\" | \"want\" | \"discuss\" | \"store\" | \"exist\" | \"return\" | \"repeat\" | \"replace\" | \"result\" | \"change\" | \"distribute\" | \"store\" | \"see\" | \"forget\" | \"try\" | \"bear\" | \"intensify\" | \"do\" | \"miss\" | \"wear\" | \"set\" | \"contact\" | \"subject\" | \"increase\" | \"restore\" | \"deliver\" | \"alter\" | \"release\" | \"proceed\" | \"reach\" | \"treat\" | \"suffer\" | \"determine\" | \"worry\" | \"sit\" | \"remain\" | \"lose\" | \"help\" | \"stop\" | \"prepare\" | \"carry\" | \"persist\" | \"drop\" | \"produce\" | \"exceed\" | \"continue\" | \"worry\" | \"tell\" | \"lead\" | \"sit\" | \"raise\" | \"start\" | \"consult\" | \"include\" | \"respond\" | \"put\" | \"lead\" | \"rise\" | \"occur\" | \"respond\" | \"develop\" | \"lose\" | \"turn\" | \"come\" | \"vary\" | \"heal\" | \"help\" | \"stop\" | \"interact\" | \"like\" | \"collect\" | \"remember\" | \"cause\" | \"continue\" | \"estimate\" | \"add\" | \"know\" | \"monitor\" | \"notice\" | \"answer\" | \"breathe\" | \"get\" | \"lower\" | \"eat\" | \"screw\" | \"collect\" | \"remind\" | \"go\" | \"avoid\" | \"refrigerate\" | \"monitor\" | \"drive\" | \"recognise\" | \"prescribe\" | \"measure\" | \"notify\" | \"freeze\" | \"drink\" | \"eat\" | \"collect\" | \"remind\" | \"affect\" | \"require\" | \"improve\" | \"perform\" | \"disappear\" | \"refrigerate\" | \"notice\" | \"drive\" | \"answer\" | \"give\" | \"make\" | \"recognise\" | \"prescribe\" | \"measure\" | \"freeze\" | \"drink\" | \"do\" | \"take\" | \"catch\" | \"protect\" | \"hesitate\" | \"push\" | \"finish\" | \"shake\" | \"understand\" | \"show\" | \"evaluate\" | \"learn\" | \"experience\" | \"harm\" | \"settle\" | \"operate\" | \"appear\" | \"offer\" | \"prevent\" | \"obtain\" | \"mean\" | \"find\" | \"wrap\" | \"aid\" | \"remove\" | \"remember\" | \"impair\" | \"fall\" | \"interfere\" | \"deteriorate\" | \"end\" | \"skip\" | \"arrange\" | \"pour\" | \"fill\" | \"lack\" | \"swallow\" | \"transfer\" | \"run\" | \"bite\" | \"seem\" | \"gain\" | \"wish\" | \"grow\" | \"deal\" | \"decide\" | \"retain\" | \"wait\" | \"mention\" | \"assist\" | \"provide\" | \"inform\" | \"instruct\" | \"begin\" | \"walk\" | \"pull\" | \"squeeze\" | \"dribble\" | \"break\" | \"form\" | \"tear\" | \"sting\" | \"smoke\" | \"eject\" | \"rub\" | \"pierce\" | \"stain\" | \"dry\" | \"clear\" | \"note\" | \"detail\" | \"talk\" | \"explain\" | \"seek\" | \"draw\" | \"apply\" | \"play\" | \"control\" | \"depend\" | \"stand\" | \"move\" | \"adjust\" | \"throw\" | \"insert\" | \"foresee\" | \"massage\" | \"mix\" | \"burn\" | \"clean\" | \"prepare\" | \"undergo\" | \"wash\" | \"modify\" | \"ask\" | \"use\" | \"read\" | \"think\" | \"contain\" | \"buy\" | \"advise\" | \"balance\" | \"happen\"\n",
      "V[NUM=sg, PERSON=3] -> \"is\" | \"was\" | \"has\" | \"depends\" | \"contains\" | \"decides\" | \"functions\" | \"provides\" | \"increases\" | \"does\" | \"follows\" | \"drinks\" | \"reaches\" | \"changes\" | \"feels\" | \"gives\" | \"appears\" | \"rises\" | \"helps\" | \"shallows\" | \"ensures\" | \"prescribes\" | \"applies\" | \"tells\" | \"happens\" | \"develops\" | \"means\" | \"seems\" | \"advises\" | \"persists\" | \"affects\" | \"aggravates\" | \"belongs\" | \"goes\" | \"thins\" | \"stops\" | \"needs\" | \"makes\" | \"gets\" | \"consists\" | \"decreases\" | \"uses\" | \"knows\" | \"comes\" | \"continues\"\n",
      "V[NUM=?n] -> \"missing\" | \"disposed\" | \"published\" | \"pens\" | \"excessive\" | \"acting\" | \"'s\" | \"unplanned\" | \"adenosine\" | \"difficulty\" | \"hypoglycaemia\" | \"weight\" | \"functioning\" | \"being\" | \"kept\" | \"appearing\" | \"told\" | \"manufactured\" | \"suffering\" | \"setting\" | \"experienced\" | \"employed\" | \"holding\" | \"remembered\" | \"forgot\" | \"remembering\" | \"adjusted\" | \"reduced\" | \"recognising\" | \"increased\" | \"keeping\" | \"removed\" | \"arranged\" | \"making\" | \"broken\" | \"varying\" | \"seen\" | \"left\" | \"producing\" | \"occurring\" | \"blurring\" | \"stopped\" | \"slow\" | \"exposed\" | \"containing\" | \"pushed\" | \"known\" | \"knowledge\" | \"lips\" | \"blood\" | \"ascending\" | \"advised\" | \"prolonged\" | \"be\" | \"flowing\" | \"used\" | \"asked\" | \"finished\" | reported | \"turned\" | \"treating\" | \"recommended\" | \"involving\" | \"produced\" | \"taken\" | \"advised\" | \"carried\" | \"determined\" | \"reported\" | \"eating\" | \"continued\" | \"feeding\" | \"falling\" | \"treating\" | \"changing\" | \"according\" | \"flowing\" | \"pronounced\" | \"transferred\" | \"undertaken\" | \"used\" | \"insulintake\" | \"pounding\" | \"interrupted\" | \"caused\" | \"intended\" | \"described\" | \"associated\" | \"finished\" | \"revealed\" | \"vomiting\" | \"involving\" | \"asked\" | \"otherwise\" | \"please\" | \"corrected\" | \"collected\" | \"right\" | \"had\" | \"lower\" | \"older\" | \"blocked\" | \"obtained\" | \"prescribed\" | \"flushing\" | \"remaining\" | \"provided\" | \"treated\" | \"causing\" | \"driving\" | \"thinning\" | \"given\" | \"supplied\" | \"developed\" | \"using\" | \"qis\" | \"exercising\" | \"vaccinated\" | \"expelled\" | \"felt\" | \"injected\" | \"operating\" | \"followed\" | \"taking\" | \"suffered\" | \"receiving\" | \"feeling\" | \"blur\" | \"depending\" | \"changed\" | \"damaged\" | \"following\" | \"allowed\" | \"started\" | \"required\" | \"done\" | \"lowered\" | \"trying\" | \"got\" | \"foot\" | \"needed\" | \"checked\" | \"enclosed\" | \"worsening\" | \"stirred\" | \"flushed\" | \"bleeding\" | \"dispensing\" | \"tingling\" | \"hurting\" | \"cloning\" | \"resolved\" | \"unwanted\" | \"prepared\" | \"breastfeeding\" | \"coated\" | \"aching\" | \"reducing\" | \"switching\" | \"storing\" | \"written\" | \"bloated\" | \"swallowed\" | \"did\" | \"thought\" | \"saw\" | \"fullness/being\" | \"sure\" | \"plc\" | \"kidney\" | \"sometimes\" | \"osteoporosis\" | \"till\" | \"glaucoma\" | \"skin\" | \"penicillin\" | \"healthcare\" | \"hyperthyroidism\" | \"stomach\" | \"dizzy\" | \"aged\" | \"dextrose\" | \"gave\" | \"fracture\" | \"specified\" | \"made\" | \"marked\" | \"helping\" | \"affecting\" | \"revised\" | \"printed\" | \"decided\" | \"starting\" | \"noted\" | \"fluid\" | \"sought\" | \"squeezing\" | \"polysorbate\" | \"checking\" | \"worsen\" | \"breathing\" | \"instructed\" | \"packed\" | \"washed\" | \"observed\" | \"choosing\" | \"aged\" | \"dizzy\" | \"dextrose\" | \"preventing\" | \"exercised\" | \"holding\" | \"discontinued\" | \"investigated\" | \"closed\" | \"established\" | \"showed\" | \"stored\" | \"learning\" | \"disappeared\" | \"characterized\" | \"decrease\" | \"administer\" | \"misused\" | \"blocking\" | \"ruled\" | \"directing\" | \"modifying\" | \"spray\" | \"formulated\" | \"raised\" | \"squirt\" | \"engraved\" | \"diagnosed\" | \"registered\" | \"explained\" | \"massaged\" | \"issued\" | \"improving\" | \"covering\" | \"colouring\" | \"repeated\" | \"applying\" | \"based\" | \"confused\" | \"injecting\" | \"decreased\" | \"working\" | \"related\" | \"inserting\" | \"prolong\" | \"withdrawn\" | \"removing\" | \"trained\" | \"monitored\" | \"initiated\" | \"once\" | \"divided\" | \"called\" | \"been\" | \"missed\" | \"stopping\" | \"applied\" | \"directed\" | \"giving\" | \"involved\" | \"having\" | \"going\" | \"shown\"\n",
      "N[NUM=sg] -> \"tachycardia\" | \"discomfort\" | \"wirral\" | \"ml\" | \"gravis\" | \"achilles\" | \"sill\" | \"hounslow\" | \"are\" | \"nervousness\" | \"consult\" | \"liquid\" | \"patchy\" | \"important\" | \"etc\" | \"iald\" | \"rue\" | \"overdosage\" | \"dipyridamole\" | \"month\" | \"*\" | \"upwards\" |  \"potassium\" | \"qwho\" | \"body\" | \"point\" | \"ltd\" | \"joint\" | \"cancer\" | \"rhythm\" | \"trade\" | \"injection\" | \"throat\" | \"person\" | \"opticianit\" | \"degradation\" | \"category\" | \"tract\" | \"reaction\" | \"date\" | \"carbohydrate\" | \"sunlight\" | \"consciousness\" | \"medicine\" | \"baldness\" | \"d'abbaye\" | \"adenosine\" | \"tw3\" | \"snack\" | \"gout\" | \"polysorbate\" | \"ecg\" | \"dentistbefore\" | \"lightheadedness\" | \"saline\" | \"attack\" | \"surgery\" | \"expel\" | \"hyperventilation\" | \"flutter\" | \"heaviness\" | \"duration\" | \"additional\" | \"appetite\" | \"selection\" | \"breathing\" | \"caution\" | \"warnings\" | \"dosage\" | \"signs\" | \"porcine\" | \"dyspnoea\" | \"backwards\" | \"jaw\" | \"donaustauferstrasse\" | \"acepril\" | \"instructions\" | \"indigestion\" | \"preexcitation\" | \"glycerol\" | \"redness\" | \"chickenpox\" | \"seventy\" | \"your\" | \"sure\" | \"failure\" | \"ace\" | \"indomethacin\" | \"uk\" | \"difficulty\" | \"bp\" | \"mark\" | \"minute\" | \"ayour\" | \"depression\" | \"advice\" | \"pharmacy\" | \"intake\" | \"winthrop\" | \"dizziness\" | \"monitoring\" | \"gmbh\" | \"one\" | \"care\" | \"amount\" | \"acheck\" | \"package\" | \"cellulose\" | \"cabinet\" | \"advance\" | \"case\" | \"sensitivity\" | \"type\" | \"w1m\" | \"temperature\" | \"bovine\" | \"vial\" | \"neck\" | \"nurse\" | \"converting\" | \"ait\" | \"arthritis\" | \"pressure\" | \"eye\" | \"container\" | \"flulike\" | \"sucrose\" | \"exercise\" | \"dermatitis\" | \"allopurinol\" | \"cupboard\" | \"summary\" | \"functioning\" | \"spare\" | \"meal\" | \"atell\" | \"belongs\" | \"tab\" | \"authorisation\" | \"dame\" | \"tongue\" | \"stomach\" | \"face\" | \"acontinue\" | \"doctorâs\" | \"needle\" | \"skin\" | \"beta\" | \"myasthenia\" | \"surrey\" | \"glaucoma\" | \"dentist\" | \"minutes\" | \"ph\" | \"carton\" | \"constriction\" | \"cough\" | \"chocolate\" | \"storage\" | \"replace\" | \"august\" | \"urge\" | \"pull\" | \"change\" | \"united\" | \"order\" | \"differ\" | \"dizzy\" | \"beat\" | \"watch\" | \"expiry\" | \"keep\" | \"administration\" | \"tremors\" | \"holder\" | \"bradycardia\" | \"place\" | \"hyperglycaemia\" | \"sodium\" | \"net\" | \"loss\" | \"delay\" | \"q\" | \"kidney\" | \"air\" | \"circulation\" | \"eyes\" | \"heat\" | \"action\" | \"quantity\" | \"food\" | \"coma\" | \"pyr\" | \"condition\" | \"middlesex\" | \"heart\" | \"maoi\" | \"shingles\" | \"recovery\" | \"sickness\" | \"household\" | \"uptake\" | \"shot\" | \"increase\" | \"dose\" | \"cola\" | \"micrograms\" | \"warning\" | \"germany\" | \"diabetes\" | \"forwards\" | \"adcortyl\" | \"week\" | \"casualty\" | \"sugar\" | \"refrigerator\" | \"figure\" | \"pom\" | \"contact\" | \"head\" | \"strength\" | \"urgency\" | \"sensation\" | \"shakiness\" | \"aadcortyl\" | \"notre\" | \"sheath\" | \"scan\" | \"insulin\" | \"doctor\" | \"iuml\" | \"in\" | \"e\" | \"ayou\" | \"set\" | \"kingdom\" | \"glucose\" | \"hormone\" | \"held\" | \"pathway\" | \"insufficiency\" | \"preparation\" | \"caps\" | \"intraarticularintradermal\" | \"coffee\" | \"mind\" | \"tip\" | \"amp\" | \"specialist\" | \"eyesight\" | \"name\" | \"preservative\" | \"aspirin\" | \"faintness\" | \"fibrillationflutter\" | \"novofine\" | \"british\" | \"pharmacist\" | \"hypo\" | \"concentration\" | \"fibrillation\" | \"infection\" | \"machinery\" | \"waste\" | \"pocket\" | \"bogus\" | \"study\" | \"reach\" | \"number\" | \"patient\" | \"finger\" | \"pancreas\" | \"level\" | \"device\" | \"elevation\" | \"infusion\" | \"ampoules\" | \"revision\" | \"av\" | \"button\" | \"muscle\" | \"procedure\" | \"ia\" | \"carry\" | \"liver\" | \"march\" | \"window\" | \"push\" | \"monoamine\" | \"conditions\" | \"home\" | \"irish\" | \"pl\" | \"quantities\" | \"drop\" | \"weakness\" | \"drugs\" | \"oxidase\" | \"limited\" | \"membrane\" | \"disease\" | \"tachycardias\" | \"supraventricular\" | \"reservoir\" | \"qhow\" | \"cyclophosphamide\" | \"copy\" | \"sterile\" | \"presentation\" | \"l46\" | \"for\" | \"levels\" | \"outer\" | \"information\" | \"staines\" | \"pain\" | \"recommendations\" | \"adenoscan\" | \"replacement\" | \"ie\" | \"dispose\" | \"therapy\" | \"anne\" | \"captopril\" | \"light\" | \"Âamoxil\" | \"addition\" | \"merseyside\" | \"maximum\" | \"area\" | \"tell\" | \"something\" | \"inflammation\" | \"precautions\" | \"aall\" | \"course\" | \"tissue\" | \"growth\" | \"paediatric\" | \"rubber\" | \"ingredient\" | \"radiator\" | \"steroid\" | \"mg\" | \"de\" | \"tea\" | \"tiredness\" | \"administer\" | \"indentation\" | \"drug\" | \"bones\" | \"fractures\" | \"top\" | \"lover\" | \"apprehension\" | \"iv\" | \"questions\" | \"sideeffects\" | \"anything\" | \"bondeville\" | \"circuit\" | \"testing\" | \"arrow\" | \"actions\" | \"leg\" | \"cataracts\" | \"wolffparkinsonwhite\" | \"include\" | \"starting\" | \"hands\" | \"blood\" | \"clinic\" | \"iaid\" | \"ireland\" | \"atropine\" | \"room\" | \"ascending\" | \"occur\" | \"stiffness\" | \"last\" | \"breast\" | \"squibb\" | \"painkillers\" | \"evidence\" | \"indications\" | \"packs\" | \"paleness\" | \"d93055\" | \"f\" | \"heartbeats\" | \"road\" | \"foetus\" | \"s\" | \"rate\" | \"weather\" | \"turns\" | \"microcrystalline\" | \"anyone\" | \"hand\" | \"vision\" | \"assessment\" | \"azathioprine\" | \"human\" | \"lane\" | \"enzyme\" | \"treatment\" | \"ability\" | \"mouth\" | \"mgml\" | \"supermarket\" | \"tendon\" | \"address\" | \"site\" | \"association\" | \"alcohol\" | \"headache\" | \"transfer\" | \"syndrome\" | \"node\" | \"bowel\" | \"stress\" | \"id\" | \"increments\" | \"with\" | \"pen\" | \"cap\" | \"bronchitis\" | \"diagnosis\" | \"cases\" | \"qwhat\" | \"disturbances\" | \"always\" | \"lumps\" | \"feet\" | \"eg\" | \"looking\" | \"numbers\" | \"fever\" | \"emergency\" | \"nose\" | \"tb\" | \"immediately\" | \"regensburg\" | \"abdomen\" | \"acetonide\" | \"kilogram\" | \"hypo\" | \"sanofi\" | \"thyroid\" | \"timing\" | \"handbag\" | \"epilepsy\" | \"ringing\" | \"life\" | \"chest\" | \"wounds\" | \"pacemaker\" | \"diabetics\" | \"xanthines\" | \"colds\" | \"control\" | \"tests\" | \"continue\" | \"hunger\" | \"palpitations\" | \"arms\" | \"ltd\" | \"limiting\" | \"symptoms\" | \"athe\" | \"legal\" | \"packaging\" | \"effects\" | \"onslow\" | \"leaflet\" | \"taste\" | \"mcresol\" | \"lithium\" | \"absence\" | \"chloride\" | \"faint\" | \"hours\" | \"uses\" | \"please\" | \"intervals\" | \"needles\" | \"pregnancy\" | \"effect\" | \"efficacy\" | \"flushing\" | \"carboxymethylcellulose\" | \"ear\" | \"delivery\" | \"discard\" | \"dublin\" | \"gu1\" | \"arm\" | \"child\" | \"age\" | \"individuals\" | \"relief\" | \"immune\" | \"energy\" | \"sensitisation\" | \"tingling\" | \"supplement\" | \"cells\" | \"source\" | \"examples\" | \"drive\" | \"direction\" | \"someone\" | \"april\" | \"break\" | \"form\" | \"risk\" | \"queen\" | \"results\" | \"kidneys\" | \"make\" | \"qis\" | \"get\" | \"conversion\" | \"nausea\" | \"activity\" | \"eur\" | \"substance\" | \"undesirable\" | \"recordings\" | \"right\" | \"drowsiness\" | \"size\" | \"vein\" | \"impairment\" | \"product\" | \"urine\" | \"freeze\" | \"interactions\" | \"salt\" | \"actrapid\" | \"click\" | \"guildford\" | \"eat\" | \"diabetic\" | \"schedule\" | \"preparations\" | \"line\" | \"qare\" | \"diarrhoea\" | \"effectiveness\" | \"problem\" | \"bypass\" | \"water\" | \"day\" | \"card\" | \"aid\" | \"indicator\" | \"asthma\" | \"acid\" | \"rashes\" | \"member\" | \"gain\" | \"tendons\" | \"degrees\" | \"period\" | \"pump\" | \"scale\" | \"adults\" | \"headedness\" | \"manufacturer\" | \"technique\" | \"companies\" | \"side\" | \"taking\" | \"possible\" | \"have\" | \"aggravation\" | \"method\" | \"angiotensin\" | \"glass\" | \"tracts\" | \"adjustment\" | \"diseases\" | \"france\" | \"department\" | \"resistance\" | \"flush\" | \"fainting\" | \"adenocor\" | \"receiving\" | \"pill\" | \"conduction\" | \"slowing\" | \"hay\" | \"remember\" | \"possibility\" | \"hospital\" | \"street\" | \"feeling\" | \"licence\" | \"relation\" | \"bristolmyers\" | \"pharmaceuticals\" | \"colour\" | \"r\" | \"ado\" | \"mode\" | \"portion\" | \"glucagon\" | \"illness\" | \"industrie\" | \"inhibitor\" | \"london\" | \"sinus\" | \"substitutes\" | \"times\" | \"buzzing\" | \"harm\" | \"following\" | \"mood\" | \"elimination\" | \"diagnostic\" | \"solution\" | \"immunisation\" | \"retention\" | \"starch\" | \"theophylline\" | \"moreton\" | \"abnormalities\" | \"prescription\" | \"clots\" | \"headaches\" | \"pacing\" | \"moment\" | \"swindon\" | \"ill\" | \"silicon\" | \"spoon\" | \"types\" | \"apricot\" | \"artery\" | \"volume\" | \"breasts\" | \"methotrexate\" | \"allergic\" | \"blue\" | \"west\" | \"inside\" | \"stearate\" | \"hair\" | \"trouble\" | \"beecham\" | \"benzoate\" | \"phenytoin\" | \"toilet\" | \"overdose\" | \"valves\" | \"ulcer\" | \"itching\" | \"hydroxypropylmethyl\" | \"wimbledon\" | \"laboratories\" | \"holiday\" | \"rash\" | \"dialysis\" | \"adipine\" | \"cold\" | \"capsuleson\" | \"others\" | \"stadastrasse\" | \"function\" | \"am\" | \"dosing\" | \"counts\" | \"denham\" | \"progress\" | \"whole\" | \"term\" | \"logo\" | \"family\" | \"nb\" | \"babies\" | \"marks\" | \"tw8\" | \"uxbridge\" | \"interest\" | \"roussel\" | \"about\" | \"supply\" | \"ub9\" | \"moods\" | \"left\" | \"tells\" | \"syrupon\" | \"discontinuation\" | \"acetate\" | \"hives\" | \"vomit\" | \"amoxil\" | \"tablet\" | \"baby\" | \"stools\" | \"contents\" | \"and/or\" | \"october\" | \"increases\" | \"br\" | \"medication\" | \"plenty\" | \"trading\" | \"kind\" | \"st\" | \"sink\" | \"calcium\" | \"reactions\" | \"adult\" | \"child's\" | \"sores\" | \"wiltshire\" | \"circumstances\" | \"fungus\" | \"house\" | \"contains\" | \"storing\" | \"ranitidine\" | \"direct\" | \"addison's\" | \"take\" | \"tartrazine\" | \"penicillins\" | \"bencard\" | \"b\" | \"note\" | \"start\" | \"fullness\" | \"baby's\" | \"repeat\" | \"parents\" | \"suspension\" | \"excipients\" | \"response\" | \"agents\" | \"vilbel\" | \"unscrew\" | \"areas\" | \"ways\" | \"osteoporosis\" | \"macrogol\" | \"feeding\" | \"front\" | \"valve\" | \"rest\" | \"store\" | \"yours\" | \"warfarin\" | \"steps\" | \"orbital\" | \"lactose\" | \"middle\" | \"talc\" | \"accident\" | \"night\" | \"basis\" | \"trihydrate\" | \"becomes\" | \"details\" | \"marketing\" | \"pack\" | \"answer\" | \"trinity\" | \"sorbitol\" | \"half\" | \"other\" | \"stop\" | \"bottle\" | \"hour\" | \"ankles\" | \"platelet\" | \"frequency\" | \"men\" | \"syrup\" | \"later\" | \"nifedipine\" | \"frg\" | \"warmth\" | \"milk\" | \"september\" | \"brentford\" | \"mr\" | \"whilst\" | \"follow\" | \"virus\" | \"dioxide\" | \"capsules\" | \"gums\" | \"antagonists\" | \"cimetidine\" | \"sw19\" | \"label\" | \"oral\" | \"george\" | \"salicylates\" | \"obstruction\" | \"cortisyl\" | \"dyes\" | \"sn3\" | \"space\" | \"drink\" | \"stada\" | \"decision\" | \"surface\" | \"weeks\" | \"glucocorticoid\" | \"narrowing\" | \"spoonfuls\" | \"dropper\" | \"distribution\" | \"north\" | \"transient\" | \"amphotericin\" | \"directions\" | \"way\" | \"reserve\" | \"unwell\" | \"any\" | \"infant\" | \"end\" | \"fatigue\" | \"rifampicin\" | \"vessels\" | \"e172\" | \"colourants\" | \"bad\" | \"acne\" | \"ag\" | \"prevention\" | \"days\" | \"suffers\" | \"reddening\" | \"stretch\" | \"magnesium\" | \"amoxycillin\" | \"amoxil\" | \"park\" | \"hypertension\" | \"withdrawal\" | \"chew\" | \"thrush\" | \"e171\" | \"chemist\" | \"pectoris\" | \"tuition\" | \"round\" | \"range\" | \"england\" | \"cortisone\" | \"arzneimittel\" | \"quot\" | \"swelling\" | \"povidone\" | \"example\" | \"peeling\" | \"bulb\" | \"adipine&trade\" | \"georges\" | \"&tradetrade\" | \"tpi\" | \"fertility\" | \"mixture\" | \"rinse\" | \"anaesthetic\" | \"cloth\" | \"lion\" | \"selfinjection\" | \"washing\" | \"physician\" | \"disturb\" | \"pox\" | \"if\" | \"dohme\" | \"ms\" | \"napkin\" | \"chicken\" | \"betaferon\" | \"bucks\" | \"did\" | \"length\" | \"ccl\" | \"central\" | \"thin\" | \"iu\" | \"breathlessness\" | \"hypersensitivity\" | \"paraffin\" | \"tocainide\" | \"year\" | \"freezer\" | \"propellant\" | \"check\" | \"haemorrhoids\" | \"citrate\" | \"part\" | \"assistant\" | \"reality\" | \"lignocaine\" | \"ballerup\" | \"share\" | \"a\" | \"squeeze\" | \"co\" | \"phenylephrine\" | \"albumin\" | \"wall\" | \"kingston\" | \"rash\" | \"anus\" | \"sgot\" | \"process\" | \"fingertips\" | \"wax\" | \"composition\" | \"chair\" | \"maleate\" | \"maols\" | \"hold\" | \"clothes\" | \"discoloration\" | \"melts\" | \"and\" | \"breastfeeding\" | \"itchiness\" | \"mistake\" | \"bodyâs\" | \"chance\" | \"p450\" | \"unit\" | \"allergy\" | \"stopper\" | \"evening\" | \"reasons\" | \"courses\" | \"interferons\" | \"july\" | \"maintenance\" | \"disability\" | \"vasoconstrictor\" | \"history\" | \"agent\" | \"propylene\" | \"development\" | \"firm\" | \"gland\" | \"want\" | \"butane\" | \"metabolism\" | \"wipes\" | \"activities\" | \"clonidine\" | \"lanolin\" | \"betnovatec\" | \"all\" | \"purpose\" | \"denmark\" | \"d13342\" | \"phenomenon\" | \"detail\" | \"determination\" | \"vertigo\" | \"nj\" | \"identity\" | \"see\" | \"reduces\" | \"empty\" | \"timolol\" | \"away\" | \"brain\" | \"damage\" | \"bloodsugar\" | \"overfill\" | \"medical\" | \"performance\" | \"stated\" | \"foaming\" | \"depersonalization\" | \"soreness\" | \"events\" | \"thoughts\" | \"cetomacrogol\" | \"denotes\" | \"yes\" | \"noises\" | \"infants\" | \"worsening\" | \"ep\" | \"talk\" | \"selfadministration\" | \"acth\" | \"insert\" | \"accordance\" | \"herpes\" | \"confusion\" | \"evans\" | \"diluent\" | \"couple\" | \"may\" | \"step\" | \"male\" | \"syringe\" | \"valerate\" | \"forefinger\" | \"field\" | \"sleep\" | \"betablockers\" | \"soon\" | \"apply\" | \"glycol\" | \"ambulatory\" | \"rectal\" | \"disorientation\" | \"warm\" | \"sharp\" | \"powder\" | \"months\" | \"hertford\" | \"berlin\" | \"seizures\" | \"chlorocresol\" | \"plunger\" | \"cytokines\" | \"carmine\" | \"bone\" | \"wipe\" | \"exceed\" | \"fingers\" | \"dysfunction\" | \"feels\" | \"past\" | \"salbutamol\" | \"sleeping\" | \"leatherhead\" | \"fabric\" | \"adrenaline\" | \"occurrence\" | \"scalp\" | \"material\" | \"palm\" | \"marrow\" | \"necrosis\" | \"saucer\" | \"suicidal\" | \"stearyl\" | \"betaadrenergicreceptor\" | \"mater\" | \"trunk\" | \"northumberland\" | \"lowers\" | \"occurs\" | \"diuretics\" | \"whitehouse\" | \"count\" | \"cell\" | \"fire\" | \"h\" | \"aluminium\" | \"interferon\" | \"betalb\" | \"supervision\" | \"ointment\" | \"guidance\" | \"liverpool\" | \"raynaud\" | \"eczema\" | \"station\" | \"isoprenaline\" | \"cetostearyl\" | \"impetigo\" | \"reconstitution\" | \"rosacea\" | \"trademark\" | \"annex\" | \"vomiting\" | \"sclerosis\" | \"cause\" | \"ances\" | \"clean\" | \"ears\" | \"betim\" | \"squat\" | \"celldeath\" | \"note\" | \"digitalis\" | \"bend\" | \"attempts\" | \"thumb\" | \"chemistry\" | \"instability\" | \"compartment\" | \"occasion\" | \"appointment\" | \"work\" | \"ignition\" | \"cytochrome\" | \"suicide\" | \"foot\" | \"migraine\" | \"his/her\" | \"glaxo\" | \"automobile\" | \"danger\" | \"piece\" | \"applicator\" | \"builders\" | \"dressing\" | \"msd\" | \"anaesthesia\" | \"using\" | \"fingertip\" | \"dressings\" | \"irritation\" | \"anxiety\" | \"hoddesdon\" | \"visit\" | \"section\" | \"straight\" | \"stains\" | \"propane\" | \"disorder\" | \"stockley\" | \"lactation\" | \"shotton\" | \"industry\" | \"carefully\" | \"cns\" | \"until\" | \"guanethidine\" | \"touches\" | \"soap\" | \"combination\" | \"wash\" | \"base\" | \"blocadren\" | \"leo\" | \"relapses\" | \"asthmalung\" | \"proteins\" | \"it\" | \"libraries\" | \"disopyramide\" | \"ethanol\" | \"dosages\" | \"attention\" | \"betamethasone\" | \"corticoids\" | \"prescribes\" | \"guard\" | \"cord\" | \"passage\" | \"tube\" | \"flame\" | \"lack\" | \"applies\" | \"merck\" | \"back\" | \"industries\" | \"matter\" | \"presentations\" | \"equipment\" | \"psoriasis\" | \"numbness\" | \"bettamousse\" | \"cream\" | \"guide\" | \"experience\" | \"progression\" | \"below\" | \"betnovate\" | \"beta1b\" | \"system\" | \"barrel\" | \"feelings\" | \"disposal\" | \"cotton\" | \"clioquinol\" | \"cannot\" | \"betaferonsodium\" | \"addison\" | \"maize\" | \"group\" | \"operation\" | \"covingham\"\n",
      "N[NUM=pl] -> \"pens\" | \"inhibitors\" | \"coughs\" | \"problems\" | \"forms\" | \"immunosuppressants\" | \"vials\" | \"patients\" | \"sites\" | \"glands\" | \"meals\" | \"periods\" | \"doctors\" | \"things\" | \"appointments\" | \"children\" | \"blockers\" | \"places\" | \"warnings\" | \"beats\" | \"ingredients\" | \"contractions\" | \"insulins\" | \"women\" | \"changes\" | \"cocoa\" | \"scar\" | \"bathroom\" | \"sweating\" | \"contraceptives\" | \"hypoglycaemia\" | \"dosage\" | \"marks\" | \"minutes\" | \"ingredients\" | \"interactions\" | \"steroids\" | \"corticosteroids\" | \"physicians\" | \"relatives\" | \"overgrowths\" | \"studies\" | \"disorders\" | \"contraindications\" | \"tuberculosis\" | \"circuits\" | \"reeds\" | \"friends\" | \"facilities\" | \"pharmacies\" | \"shows\" | \"eyes\" | \"units\" | \"minutes\" | \"pains\" | \"responses\" | \"tablets\" | \"caps\" | \"seconds\" | \"investigations\" | \"ketones\" | \"muscles\" | \"bubbles\" | \"legs\" | \"pins\" | \"joints\" | \"studies\" | \"steroids\" | \"conditions\" | \"quantities\" | \"drugs\" | \"tachycardias\" | \"hormones\" | \"diseases\" | \"levels\" | \"minutes\" | \"people\" | \"medicines\" | \"requirements\" | \"questions\" | \"sideeffects\" | \"bone\" | \"fractures\" | \"sons\" | \"persons\" | \"supplies\" | \"techniques\" | \"injections\" | \"indications\" | \"packs\" | \"heartbeats\" | \"turns\" | \"sideeffects\" | \"headaches\" | \"rashes\" | \"breaks\" | \"tests\" | \"arms\" | \"wounds\" | \"feet\" | \"emergencies\" | \"numbers\" | \"interactions\" | \"results\" | \"kidneys\" | \"times\" | \"days\" | \"risks\" | \"effects\" | \"leaflets\" | \"degrees\" | \"periods\" | \"scales\" | \"painkillers\" | \"clots\" | \"hands\" | \"assessments\" | \"treatments\" | \"enzymes\" | \"addresses\" | \"sites\" | \"associations\" | \"alcohols\" | \"transfers\" | \"syndromes\" | \"nodes\" | \"bowels\" | \"stresses\" | \"increments\" | \"caps\" | \"cases\" | \"groups\" | \"tests\" | \"disturbances\" | \"always\" | \"lumps\" | \"feet\" | \"numbers\" | \"emergencies\" | \"nose\" | \"tb\" | \"hands\" | \"epilepsies\" | \"rings\" | \"pacing\" | \"wounds\" | \"arms\" | \"legs\" | \"pins\" | \"tests\" | \"hunger\" | \"palpitations\" | \"symptoms\" | \"effects\" | \"leaflets\" | \"tests\" | \"examples\" | \"examples\" | \"substances\" | \"undesirables\" | \"recordings\" | \"interactions\" | \"diabetic tests\" | \"diseases\" | \"packaging\" | \"effects\" | \"problems\" | \"diabetes\" | \"agents\" | \"families\" | \"medications\" | \"syrups\" | \"symptoms\" | \"reactions\" | \"parents\" | \"bottles\" | \"capsules\" | \"areas\" | \"ways\" | \"steps\" | \"contents\" | \"sores\" | \"sore\" | \"responses\" | \"details\" | \"instances\" | \"weeks\" | \"barbiturates\" | \"cuts\" | \"reports\" | \"vaccinations\" | \"infections\" | \"athletes\" | \"drops\" | \"creams\" | \"enzymes\" | \"hospitalizations\" | \"bacteria\" | \"chemicals\" | \"blackouts\" | \"books\" | \"swelling\" | \"tasks\" | \"stoppers\" | \"books\" | \"situations\" | \"swelling\" | \"results\" | \"items\" | \"results\" | \"hallucinations\" | \"measures\" | \"parts\" | \"syringes\" | \"speke\" | \"gloves\" | \"dermatoses\" | \"diuretics\" | \"lungs\" | \"depressions\" | \"bottles\" | \"ointments\" | \"stings\" | \"substances\" | \"difficulties\" | \"products\" | \"ears\" | \"damages\" | \"attempts\" | \"tops\" | \"wrapping\" | \"upsets\" | \"decreases\" | \"piles\" | \"stains\" | \"disorder\" | \"containers\" | \"attacks\" | \"relapses\" | \"libraries\" | \"dosages\" | \"prescribes\" | \"industries\" | \"presentations\" | \"equipment\" | \"feelings\" | \"disposal\" | \"cotton\" | \"doses\" | \"strengths\"\n",
      "N[NUM=?n] -> \"after\" | \"babys\" | \"qcan\" | \"you\" | \"not\" | \"ago\" | \"before\" | \"time\" | \"after\" | \"your\" | \"sure\" | \"failure\" | \"need\" | \"converting\" | \"not\" | \"before\" | \"you\" | \"after\" | \"your\" | \"sure\" | \"not\" | \"before\" | \"you\" | \"after\" | \"your\" | \"sure\" | \"something\" | \"anyone\" | \"you\" | \"something\" | \"please\" | \"well\" | \"not\" | \"while\" | \"you\" | \"someone\" | \"please\" | \"then\" | \"now\" | \"others\" | \"about\" | \"and/or\" | \"about\" | \"any\" | \"now\" | \"history\" | \"swelling\" | \"#NAME?\" | \"w/w\" | \"inc\" | \"h\" | \"as\" | \"before\" | \"is\" | \"then\" | \"and\" | \"if\" | \"until\" | \"it\" | \"addisons\" | \"childs\"\n",
      "to -> \"to\"\n",
      "ex -> \"there\"\n",
      "rp -> \"off\" | \"up\" | \"down\" | \"out\" | \"over\" | \"back\" | \"away\"\n",
      "uh -> \"yes\"\n",
      "md -> \"might\" | \"may\" | \"would\" | \"qshould\" | \"should\" | \"can\" | \"must\" | \"will\" | \"could\"\n",
      "wp -> \"whereas\" | \"which\" | \"when\" | \"where\" | \"who\" | \"how\" | \"what\" | \"wash\" | \"why\" | \"that\" | \"whichever\" | \"whose\"\n",
      "conj -> \"but\" | \"&\" | \"nor\" | \"bradycardia\" | \"or\" | \"neither\" | \"and\" | \"steroid\" | \"either\"\n",
      "prep -> \"into\" | \"between\" | \"until\" | \"whether\" | \"over\" | \"during\" | \"with\" | \"as\" | \"through\" | \"before\" | \"except\" | \"since\" | \"unless\" | \"around\" | \"opposite\" | \"qwhat\" | \"upon\" | \"breast\" | \"within\" | \"allow\" | \"although\" | \"worse\" | \"in\" | \"so\" | \"awhile\" | \"onto\" | \"while\" | \"for\" | \"that\" | \"if\" | \"because\" | \"at\" | \"via\" | \"below\" | \"aremind\" | \"up\" | \"on\" | \"of\" | \"than\" | \"under\" | \"near\" | \"by\" | \"above\" | \"down\" | \"about\" | \"without\" | \"out\" | \"whilst\" | \"press\" | \"after\" | \"tells\" | \"from\" | \"per\" | \"like\" | \"behind\" | \"amongst\" | \"#NAME?\" | \"wipe\" | \"toward\" | \"past\" | \"turn\" | \"find\" | \"throughout\" | \"against\" | \"despite\" | \"inside\" | \"overuse\" | \"unscrew\" | \"including\"\n",
      "cd -> \"17230005\" | \"20\" | \"one\" | \"1\" | \"2\" | \"78\" | \"25mg\" | \"18\" | \"1qw\" | \"10m\" | \"5ml\" | \"301227\" | \"12\" | \"150mg\" | \"810121416\" | \"10mgml\" | \"125mgpl\" | \"125mg\" | \"45352\" | \"3\" | \"140\" | \"340300\" | \"6\" | \"375\" | \"1995c80002gb68005d1295\" | \"2Â°\" | \"25Â°c\" | \"3ja\" | \"340299\" | \"8\" | \"1994\" | \"three\" | \"340298\" | \"50mg\" | \"triamcinolone\" | \"0\" | \"100mg\" | \"12mg\" | \"30\" | \"40\" | \"25mgpl\" | \"5\" | \"4\" | \"25C/77F\" | \"75mg\" | \"4ys\" | \"625mg\" | \"378\" | \"60\" | \"10\" | \"8Â°c\" | \"50mgpl\" | \"80\" | \"25\" | \"0bd\" | \"5\" | \"two\" | \"1995\" | \"52\" | \"1992\" | \"100\" | \"9\" | \"8roadwater\" | \"6000\" | \"25Â°c77Â°f\" | \"112040038/1\" | \"125\" | \"5hr\" | \"11pm\" | \"7\" | \"1988\" | \"125\" | \"500\" | \"4eu\" | \"9bd\" | \"39670\" | \"58z\" | \"250\" | \"56\" | \"61118\" | \"3pm\" | \"1989\" | \"25mgcse\" | \"7am\" | \"43132\" | \"15\" | \"9rr\" | \"seven\" | \"3\" | \"five\" | \"12\" | \"six\" | \"132\" | \"25\" | \"48\" | \"60Â°c\" | \"million\" | \"24\" | \"1\" | \"45632\" | \"1009\" | \"54\" | \"5\" | \"7pq\" | \"102\" | \"12\" | \"1000\" | \"96\" | \"25\" | \"25c\" | \"3\" | \"54\" | \"hp27\" | \"5\" | \"1\" | \"12\" | \"612\" | \"012w/w\" | \"25c\" | \"218\" | \"77f\" | \"25c/77f\"\n",
      "adj -> \"second\" | \"systemic\" | \"hot\" | \"few\" | \"isotonic\" | \"ml\" | \"255\" | \"highlevel\" | \"limited\" | \"low\" | \"higher\" | \"slight\" | \"liquid\" | \"electrophysiological\" | \"continued\" | \"important\" | \"recent\" | \"supraventricular\" | \"reservoir\" | \"healthy\" | \"careful\" | \"great\" | \"less\" | \"better\" | \"double\" | \"neutral\" | \"*\" | \"sterile\" | \"accessory\" | \"potassium\" | \"expiry\" | \"useful\" | \"thoracic\" | \"detailed\" | \"due\" | \"full\" | \"hepatic\" | \"joint\" | \"inflammatory\" | \"atrial\" | \"adenoscan\" | \"metallic\" | \"upset\" | \"next\" | \"available\" | \"such\" | \"anxious\" | \"other\" | \"repeated\" | \"reentry\" | \"self\" | \"smaller\" | \"added\" | \"shortacting\" | \"strong\" | \"irregular\" | \"captopril\" | \"much\" | \"therapeutic\" | \"severe\" | \"light\" | \"dry\" | \"clear\" | \"maximum\" | \"broad\" | \"natural\" | \"intravenous\" | \"larger\" | \"glau\" | \"more\" | \"own\" | \"suggested\" | \"consciousness\" | \"thin\" | \"colourless\" | \"active\" | \"medicine\" | \"thickened\" | \"nipple\" | \"adenosine\" | \"28522\" | \"ventricular\" | \"anomalous\" | \"steroid\" | \"moderate\" | \"present\" | \"disposable\" | \"unsure\" | \"visual\" | \"physical\" | \"515\" | \"high\" | \"frequent\" | \"correct\" | \"mild\" | \"intramuscular\" | \"temporary\" | \"locked\" | \"dose\" | \"uncontrolled\" | \"weak\" | \"early\" | \"sick\" | \"rare\" | \"artificial\" | \"triamcinolone\" | \"empty\" | \"right\" | \"stearic\" | \"safe\" | \"down\" | \"swollen\" | \"effective\" | \"write\" | \"intracavitary\" | \"renal\" | \"urine\" | \"increased\" | \"elderly\" | \"medical\" | \"actrapid\" | \"able\" | \"same\" | \"lower\" | \"fold\" | \"pregnant\" | \"further\" | \"diabetic\" | \"many\" | \"unscrewed\" | \"dosage\" | \"dental\" | \"excess\" | \"abdominal\" | \"little\" | \"brittle\" | \"inner\" | \"similar\" | \"wrong\" | \"head\" | \"unwanted\" | \"insulinrequiring\" | \"common\" | \"first\" | \"benzyl\" | \"short\" | \"urinary\" | \"your\" | \"last\" | \"fast\" | \"third\" | \"antiinflammatory\" | \"sure\" | \"used\" | \"scan\" | \"usual\" | \"fatty\" | \"insulin\" | \"rheumatoid\" | \"least\" | \"likely\" | \"glucose\" | \"normal\" | \"paroxysmal\" | \"bronchial\" | \"several\" | \"foetal\" | \"animal\" | \"new\" | \"troublesome\" | \"side\" | \"possible\" | \"premature\" | \"human\" | \"extra\" | \"reestablished\" | \"surrounding\" | \"dangerous\" | \"tendon\" | \"exogenous\" | \"42125\" | \"wise\" | \"203\" | \"certain\" | \"close\" | \"2505\" | \"shortest\" | \"small\" | \"protective\" | \"facial\" | \"reversible\" | \"mental\" | \"thirsty\" | \"pen\" | \"daily\" | \"lightheaded\" | \"slow\" | \"particular\" | \"observed\" | \"half\" | \"rapid\" | \"opposite\" | \"allergic\" | \"registered\" | \"vial\" | \"aware\" | \"inhaled\" | \"patient\" | \"total\" | \"torn\" | \"subsequent\" | \"advisable\" | \"asthmatic\" | \"141149\" | \"necessary\" | \"complex\" | \"most\" | \"cardiac\" | \"wv\" | \"regular\" | \"nodal\" | \"childbearing\" | \"personal\" | \"highest\" | \"sinus\" | \"damp\" | \"identical\" | \"female\" | \"known\" | \"thyroid\" | \"narrow\" | \"45353\" | \"various\" | \"essential\" | \"following\" | \"breastfeeding\" | \"oral\" | \"mixed\" | \"nearest\" | \"diagnostic\" | \"above\" | \"chest\" | \"contraindicated\" | \"required\" | \"special\" | \"pharmaceutical\" | \"sufficient\" | \"initial\" | \"subcutaneous\" | \"divided\" | \"different\" | \"longterm\" | \"ulcer\" | \"long\" | \"operate\" | \"greater\" | \"push\" | \"degree\" | \"single\" | \"clean\" | \"dialadose\" | \"easier\" | \"needle\" | \"skin\" | \"lactose\" | \"gradual\" | \"43132\" | \"white\" | \"colic\" | \"acceptable\" | \"ill\" | \"weaker\" | \"sole\" | \"soluble\" | \"adrenal\" | \"antiasthma\" | \"previous\" | \"best\" | \"large\" | \"sodium\" | \"brittle/weak\" | \"transient\" | \"complete\" | \"2737\" | \"inactive\" | \"bacterial\" | \"s\" | \"leftover\" | \"colloidal\" | \"local\" | \"suitable\" | \"specific\" | \"equivalent\" | \"bad\" | \"pancreatic\" | \"nifedipine\" | \"cool\" | \"hypoglycaemic\" | \"azo\" | \"prominent\" | \"amoxycillin\" | \"unsuitable\" | \"breast\" | \"bowel\" | \"aortic\" | \"antidepressant\" | \"alternate\" | \"cold\" | \"child\" | \"tween\" | \"biconvex\" | \"antiulcer\" | \"thinner\" | \"angina\" | \"original\" | \"unusual\" | \"difficult\" | \"thicker\" | \"depressed\" | \"cortisyl\" | \"weight\" | \"happy\" | \"purified\" | \"feel\" | \"undesirable\" | \"epileptic\" | \"minor\" | \"surgical\" | \"abnormal\" | \"spontaneous\" | \"antibiotic\" | \"prescribed\" | \"twelve\" | \"red\" | \"discard\" | \"nonproprietary\" | \"foreign\" | \"paediatric\" | \"coronary\" | \"breastfed\" | \"recombinant\" | \"anaesthetic\" | \"chloride\" | \"depressive\" | \"indigo\" | \"past\" | \"inflamed\" | \"public\" | \"selfinjection\" | \"appropriate\" | \"nozzle\" | \"sized\" | \"airtight\" | \"reconstituted\" | \"muscular\" | \"inadequate\" | \"resulting\" | \"updated\" | \"circular\" | \"unused\" | \"scalp\" | \"biological\" | \"negative\" | \"2ml\" | \"migraine\" | \"relapsefree\" | \"cetyl\" | \"topical\" | \"enlarged\" | \"suicidal\" | \"helpful\" | \"betnovatec\" | \"differential\" | \"soft\" | \"prepared\" | \"relapsingremitting\" | \"central\" | \"middle\" | \"treated\" | \"anabolic\" | \"earlier\" | \"cramplike\" | \"flat\" | \"nonspecific\" | \"naked\" | \"responsible\" | \"contraceptive\" | \"28Â°c\" | \"seborrhoeic\" | \"nervous\" | \"unlikely\" | \"serum\" | \"monamine\" | \"reduced\" | \"private\" | \"lifethreatening\" | \"blue\" | \"emotional\" | \"clinical\" | \"timolol\" | \"wear\" | \"incomplete\" | \"unknown\" | \"longer\" | \"lignocaine\" | \"freezing\" | \"accidental\" | \"halfscored\" | \"older\" | \"21gauge\" | \"responsive\" | \"social\" | \"equal\" | \"fungal\" | \"direct\" | \"antiepileptic\" | \"affected\" | \"worse\" | \"related\" | \"slower\" | \"27gauge\" | \"serious\" | \"spinal\" | \"professional\" | \"use\" | \"neurologic\" | \"scored\" | \"ointment\" | \"moist\" | \"bloated\" | \"herpes\" | \"fresh\" | \"thrush\" | \"diluent\" | \"stable\" | \"perioral\" | \"progressive\" | \"rough\" | \"antibacterial/antifungal\" | \"fourteen\" | \"preservative\" | \"valerate\" | \"menstrual\" | \"british\" | \"unwell\" | \"tube\" | \"calculated\" | \"sleep\" | \"lumps\" | \"catecholamidedepleting\" | \"multiple\" | \"painful\" | \"back\" | \"citric\" | \"neutralising\" | \"main\" | \"golfball\" | \"#NAME?\" | \"anhydrous\" | \"incandescent\" | \"rectal\" | \"pressurised\" | \"undergoing\" | \"ready\" | \"flammable\" | \"beta1b\" | \"general\" | \"fewer\" | \"45478\" | \"exact\" | \"adverse\" | \"liver\" | \"preexisting\" | \"comfortable\" | \"premenopausal\"\n",
      "adv -> \"normally\" | \"preferably\" | \"better\" | \"so\" | \"proximally\" | \"intravenously\" | \"again\" | \"never\" | \"permanently\" | \"only\" | \"transiently\" | \"simply\" | \"just\" | \"abruptly\" | \"much\" | \"directly\" | \"very\" | \"approximately\" | \"subcutaneously\" | \"all\" | \"frequently\" | \"more\" | \"also\" | \"completely\" | \"already\" | \"sometimes\" | \"early\" | \"sore\" | \"not\" | \"recently\" | \"commonly\" | \"nursebefore\" | \"horizontally\" | \"start\" | \"firmly\" | \"however\" | \"far\" | \"procainamide\" | \"therefore\" | \"carefully\" | \"absolutely\" | \"fully\" | \"as\" | \"actually\" | \"first\" | \"gently\" | \"still\" | \"else\" | \"usually\" | \"now\" | \"deeply\" | \"typically\" | \"probably\" | \"freely\" | \"ever\" | \"especially\" | \"even\" | \"rarely\" | \"often\" | \"then\" | \"similarly\" | \"there\" | \"nevertheless\" | \"generally\" | \"eventually\" | \"naturally\" | \"unusually\" | \"seriously\" | \"daily\" | \"too\" | \"soon\" | \"always\" | \"back\" | \"nose\" | \"prior\" | \"most\" | \"immediately\" | \"twice\" | \"acetonide\" | \"once\" | \"well\" | \"exactly\" | \"particularly\" | \"long\" | \"talc\" | \"effectively\" | \"instead\" | \"before\" | \"up\" | \"evenly\" | \"tightly\" | \"alternatively\" | \"best\" | \"almost\" | \"unwell\" | \"longer\" | \"quickly\" | \"maybe\" | \"no\" | \"quickly/abruptly\" | \"perhaps\" | \"easily\" | \"gradually\" | \"accidentally\" | \"badly\" | \"mainly\" | \"slightly\" | \"previously\" | \"altogether\" | \"safely\" | \"occasionally\" | \"thirst\" | \"otherwise\" | \"regularly\" | \"eg\" | \"store\" | \"temporarily\" | \"faster\" | \"asleep\" | \"yet\" | \"widely\" | \"either\" | \"upside\" | \"monthly\" | \"inadequately\" | \"forward\" | \"suddenly\" | \"#NAME?\" | \"notice\" | \"slowly\" | \"down\" | \"straight\" | \"away\" | \"possibly\" | \"little\" | \"closely\" | \"rapidly\" | \"nearly\" | \"promptly\" | \"properly\" | \"hydrochloride\" | \"clearly\" | \"acid\" | \"inside\" | \"later\" | \"extremely\" | \"thoroughly\" | \"abnormally\" | \"sufficiently\" | \"theoretically\" | \"sparingly\" | \"together\"\n"
     ]
    }
   ],
   "source": [
    "print(non_terminal_grammar_string+terminal_grammar_string)"
   ]
  },
  {
   "cell_type": "code",
   "execution_count": 11,
   "metadata": {},
   "outputs": [
    {
     "name": "stdout",
     "output_type": "stream",
     "text": [
      "(S[]\n",
      "  (NP1[NUM='sg'] (NP2[NUM='sg'] (N[NUM='sg'] alcohol)))\n",
      "  (VP1[NUM='sg', PERSON=3]\n",
      "    (VP2[NUM='sg', PERSON=3] (V[NUM='sg', PERSON=3] aggravates))))\n",
      "(S[]\n",
      "  (VP1[NUM='sg', PERSON=3]\n",
      "    (NP1[NUM='sg'] (NP2[NUM='sg'] (N[NUM='sg'] alcohol)))\n",
      "    (VP2[NUM='sg', PERSON=3] (V[NUM='sg', PERSON=3] aggravates))))\n",
      "\n",
      "(S[]\n",
      "  (NP1[NUM='pl']\n",
      "    (NP2[NUM='pl'] (det[NUM='pl'] these) (N[NUM='pl'] symptoms))))\n"
     ]
    }
   ],
   "source": [
    "\n",
    "from nltk.grammar import FeatureGrammar\n",
    "from nltk.parse import FeatureEarleyChartParser\n",
    "\n",
    "final_grammar_string = \"\"\n",
    "\n",
    "with open(\"../Grammar/Final_Grammar_with_NER.txt\",'r',encoding='latin-1') as file:\n",
    "    final_grammar_string = file.read()\n",
    "\n",
    "parser = FeatureEarleyChartParser(FeatureGrammar.fromstring(final_grammar_string))\n",
    "\n",
    "sent1 = \"alcohol aggravates\"\n",
    "sent2 = \"these symptoms\"\n",
    "\n",
    "for tree in parser.parse(sent1.lower().split()):\n",
    "    print(tree)\n",
    "\n",
    "print(\"\")\n",
    "\n",
    "for tree in parser.parse(sent2.lower().split()):\n",
    "    print(tree)"
   ]
  },
  {
   "cell_type": "markdown",
   "metadata": {},
   "source": [
    "## **Grammar Parsing - Earley Parser With The Created Grammar**"
   ]
  },
  {
   "cell_type": "code",
   "execution_count": 1,
   "metadata": {},
   "outputs": [
    {
     "ename": "NameError",
     "evalue": "name 'FeatureGrammar' is not defined",
     "output_type": "error",
     "traceback": [
      "\u001b[1;31m---------------------------------------------------------------------------\u001b[0m",
      "\u001b[1;31mNameError\u001b[0m                                 Traceback (most recent call last)",
      "Cell \u001b[1;32mIn[1], line 44\u001b[0m\n\u001b[0;32m     41\u001b[0m \u001b[38;5;66;03m#file_paths = [\"../six PIL/fail pass/Earley-Fail.txt\"]\u001b[39;00m\n\u001b[0;32m     42\u001b[0m \u001b[38;5;66;03m#file_paths = [\"../pil/Betaferon.sgml\",\"../pil/Betim_Tablets.sgml\",\"../pil/Betnovate_Rectal_Ointment.sgml\",\"../pil/BetnovateC_Cream.sgml\",\"../pil/Bettamousse.sgml\",\"../pil/Blocadren.sgml\"]\u001b[39;00m\n\u001b[0;32m     43\u001b[0m file_paths \u001b[38;5;241m=\u001b[39m [\u001b[38;5;124m\"\u001b[39m\u001b[38;5;124m../six PIL/Adipine_MR_10.sgml\u001b[39m\u001b[38;5;124m\"\u001b[39m,\u001b[38;5;124m\"\u001b[39m\u001b[38;5;124m../six PIL/Adipine_TM_10.sgml\u001b[39m\u001b[38;5;124m\"\u001b[39m,\u001b[38;5;124m\"\u001b[39m\u001b[38;5;124m../six PIL/Amoxil_Capsules.sgml\u001b[39m\u001b[38;5;124m\"\u001b[39m,\u001b[38;5;124m\"\u001b[39m\u001b[38;5;124m../six PIL/Amoxil_Paediatric_Susp.sgml\u001b[39m\u001b[38;5;124m\"\u001b[39m,\u001b[38;5;124m\"\u001b[39m\u001b[38;5;124m../six PIL/Cortisyl_25_mg_Tablets.sgml\u001b[39m\u001b[38;5;124m\"\u001b[39m,\u001b[38;5;124m\"\u001b[39m\u001b[38;5;124m../six PIL/Amoxil_Syrup.sgml\u001b[39m\u001b[38;5;124m\"\u001b[39m]\n\u001b[1;32m---> 44\u001b[0m \u001b[43mparser_pipeline\u001b[49m\u001b[43m(\u001b[49m\u001b[43mfile_paths\u001b[49m\u001b[43m)\u001b[49m\n",
      "Cell \u001b[1;32mIn[1], line 2\u001b[0m, in \u001b[0;36mparser_pipeline\u001b[1;34m(file_paths)\u001b[0m\n\u001b[0;32m      1\u001b[0m \u001b[38;5;28;01mdef\u001b[39;00m \u001b[38;5;21mparser_pipeline\u001b[39m(file_paths):  \n\u001b[1;32m----> 2\u001b[0m   grammar \u001b[38;5;241m=\u001b[39m \u001b[43mFeatureGrammar\u001b[49m\u001b[38;5;241m.\u001b[39mfromstring(non_terminal_grammar_string\u001b[38;5;241m+\u001b[39mterminal_grammar_string)\n\u001b[0;32m      3\u001b[0m   parser \u001b[38;5;241m=\u001b[39m FeatureEarleyChartParser(grammar)\n\u001b[0;32m      5\u001b[0m   \u001b[38;5;28;01mfor\u001b[39;00m file_path \u001b[38;5;129;01min\u001b[39;00m file_paths[\u001b[38;5;241m5\u001b[39m:\u001b[38;5;241m6\u001b[39m]:\n",
      "\u001b[1;31mNameError\u001b[0m: name 'FeatureGrammar' is not defined"
     ]
    }
   ],
   "source": [
    "def parser_pipeline(file_paths):  \n",
    "  grammar = FeatureGrammar.fromstring(non_terminal_grammar_string+terminal_grammar_string)\n",
    "  parser = FeatureEarleyChartParser(grammar)\n",
    "  \n",
    "  for file_path in file_paths[5:6]:\n",
    "    text = read_file(file_path)\n",
    "\n",
    "    paragraphs = re.split(\"\\n\",text)\n",
    "    sentences = sentence_tokenize(paragraphs)\n",
    "\n",
    "    i = 0\n",
    "    \n",
    "    for sent in sentences:\n",
    "      #if i not in [16]:\n",
    "        sent = re.sub(r'[,;:<>{}?.()_=+|%°\\-\\\\\\'\\\"]',\"\",sent.lower())\n",
    "        sent = sent.replace(\"&quot\",\"\")\n",
    "\n",
    "        words = sent.split()\n",
    "        print(nltk.pos_tag(words))\n",
    "        \n",
    "        is_parsed = False\n",
    "\n",
    "        print(i)\n",
    "        print(sent)\n",
    "\n",
    "        trees = parser.parse(words)\n",
    "\n",
    "        if trees != None:\n",
    "          for tree in trees:\n",
    "              is_parsed = True            \n",
    "              #print(sent)\n",
    "              print(tree)\n",
    "              #print(\"\")\n",
    "              break\n",
    "\n",
    "#        if(not is_parsed):\n",
    "#           print(sent)\n",
    "\n",
    "        i+=1\n",
    "\n",
    "#file_paths = [\"../six PIL/fail pass/Earley-Fail.txt\"]\n",
    "#file_paths = [\"../pil/Betaferon.sgml\",\"../pil/Betim_Tablets.sgml\",\"../pil/Betnovate_Rectal_Ointment.sgml\",\"../pil/BetnovateC_Cream.sgml\",\"../pil/Bettamousse.sgml\",\"../pil/Blocadren.sgml\"]\n",
    "file_paths = [\"../six PIL/Adipine_MR_10.sgml\",\"../six PIL/Adipine_TM_10.sgml\",\"../six PIL/Amoxil_Capsules.sgml\",\"../six PIL/Amoxil_Paediatric_Susp.sgml\",\"../six PIL/Cortisyl_25_mg_Tablets.sgml\",\"../six PIL/Amoxil_Syrup.sgml\"]\n",
    "parser_pipeline(file_paths)"
   ]
  },
  {
   "cell_type": "code",
   "execution_count": 48,
   "metadata": {},
   "outputs": [
    {
     "name": "stdout",
     "output_type": "stream",
     "text": [
      "0\n",
      "excipients lactose microcrystalline cellulose macrogol 6000 magnesium stearate maize starch hydroxypropylmethyl cellulose polysorbate 80 tween 80 talc colourants e171 e172\n"
     ]
    }
   ],
   "source": [
    "from nltk.grammar import FeatureGrammar\n",
    "from nltk.parse import FeatureEarleyChartParser\n",
    "\n",
    "grammar_string = \"\"\n",
    "\n",
    "with open(\"../Grammar/final_Grammar_with_NER.txt\",'r',encoding='latin-1') as file:\n",
    "    grammar_string = file.read()\n",
    "\n",
    "#print(grammar_string)\n",
    "\n",
    "# Function to extract entities of a specific non-terminal (e.g., drug)\n",
    "def extract_entities(tree, Named_Entity):\n",
    "    entities = []\n",
    "\n",
    "    # If the tree is a terminal, there's nothing to do\n",
    "    if isinstance(tree, str):\n",
    "        return entities\n",
    "    \n",
    "    # If it's a non-terminal and matches the target, collect its leaves\n",
    "    for x in tree.label().keys():\n",
    "        if tree.label().get(x) == Named_Entity:\n",
    "            return tree.leaves()\n",
    "\n",
    "    # Otherwise, recursively search the subtrees\n",
    "    for subtree in tree:\n",
    "        entities.extend(extract_entities(subtree, Named_Entity))\n",
    "\n",
    "    return entities\n",
    "\n",
    "def parser_pipeline(file_paths):  \n",
    "  grammar = FeatureGrammar.fromstring(grammar_string)\n",
    "  parser = FeatureEarleyChartParser(grammar)\n",
    "  \n",
    "  for file_path in file_paths[0:1]:\n",
    "    text = read_file(file_path)\n",
    "\n",
    "    paragraphs = re.split(\"\\n\",text)\n",
    "    sentences = sentence_tokenize(paragraphs)\n",
    "\n",
    "    j = 0\n",
    "    \n",
    "    for sent in sentences[8:9]:\n",
    "        sent = re.sub(r'[,;:<>{}?.()_=+|%°\\-\\\\\\'\\\"]',\"\",sent.lower())\n",
    "        sent = sent.replace(\"&quot\",\"\")\n",
    "\n",
    "        words = sent.split()\n",
    "\n",
    "        print(j)\n",
    "        print(sent)\n",
    "\n",
    "        trees = parser.parse(words)\n",
    "        final_named_entities = []\n",
    "\n",
    "        if trees != None:\n",
    "          for i, tree in enumerate(trees):\n",
    "              print(tree)\n",
    "              named_entities = extract_entities(tree, \"chemical\")\n",
    "              \n",
    "              if(len(named_entities)>len(final_named_entities)):\n",
    "                final_named_entities = list(tuple(named_entities))\n",
    "\n",
    "        if(len(final_named_entities)!=0):\n",
    "            print(f\"Named entities (Chemical): {final_named_entities}\")\n",
    "\n",
    "        trees = parser.parse(words)\n",
    "        final_named_entities = []\n",
    "\n",
    "        if trees != None:\n",
    "          for i, tree in enumerate(trees):\n",
    "              named_entities = extract_entities(tree, \"drug\")\n",
    "              \n",
    "              if(len(named_entities)>len(final_named_entities)):\n",
    "                final_named_entities = list(tuple(named_entities))\n",
    "\n",
    "        if(len(final_named_entities)!=0):\n",
    "            print(f\"Named entities (Drugs): {final_named_entities}\")\n",
    "\n",
    "        trees = parser.parse(words)\n",
    "        final_named_entities = []\n",
    "\n",
    "        if trees != None:\n",
    "          for i, tree in enumerate(trees):\n",
    "              named_entities = extract_entities(tree, \"org\")\n",
    "              \n",
    "              if(len(named_entities)>len(final_named_entities)):\n",
    "                final_named_entities = list(tuple(named_entities))\n",
    "\n",
    "        if(len(final_named_entities)!=0):\n",
    "            print(f\"Named entities (org): {final_named_entities}\")\n",
    "\n",
    "        j+=1\n",
    "\n",
    "#file_paths = [\"../pil/Betaferon.sgml\",\"../pil/Betim_Tablets.sgml\",\"../pil/Betnovate_Rectal_Ointment.sgml\",\"../pil/BetnovateC_Cream.sgml\",\"../pil/Bettamousse.sgml\",\"../pil/Blocadren.sgml\"]\n",
    "file_paths = [\"../six PIL/Adipine_MR_10.sgml\",\"../six PIL/Adipine_TM_10.sgml\",\"../six PIL/Amoxil_Capsules.sgml\",\"../six PIL/Amoxil_Paediatric_Susp.sgml\",\"../six PIL/Cortisyl_25_mg_Tablets.sgml\",\"../six PIL/Amoxil_Syrup.sgml\"]\n",
    "parser_pipeline(file_paths)"
   ]
  },
  {
   "cell_type": "markdown",
   "metadata": {},
   "source": [
    "# **Pipeline To Read, Tokenize and Tag**"
   ]
  },
  {
   "cell_type": "code",
   "execution_count": null,
   "metadata": {},
   "outputs": [
    {
     "name": "stdout",
     "output_type": "stream",
     "text": [
      "``\n",
      "``\n",
      "''\n",
      "''\n",
      "asthma\n",
      "''\n",
      "rhythm\n",
      "SYM\n",
      "``\n",
      "``\n",
      "''\n",
      "''\n",
      "``\n",
      "``\n",
      "''\n",
      "''\n",
      "``\n",
      "``\n",
      "''\n",
      "''\n",
      "``\n",
      "``\n",
      "''\n",
      "''\n",
      "``\n",
      "``\n",
      "''\n",
      "''\n",
      "skin\n",
      "FW\n",
      "``\n",
      "``\n",
      "''\n",
      "''\n",
      "``\n",
      "``\n",
      "''\n",
      "''\n",
      "``\n",
      "``\n",
      "''\n",
      "''\n",
      "``\n",
      "``\n",
      "''\n",
      "''\n",
      "``\n",
      "``\n",
      "''\n",
      "''\n",
      "``\n",
      "``\n",
      "''\n",
      "''\n",
      "``\n",
      "``\n",
      "''\n",
      "''\n",
      "'\n",
      "''\n",
      "skin\n",
      "FW\n"
     ]
    }
   ],
   "source": [
    "def nla_pipeline(file_paths):\n",
    "  pos_tag_list = []\n",
    "  \n",
    "  for file_path in file_paths:\n",
    "    text = read_file(file_path)\n",
    "\n",
    "    paragraphs = re.split(\"\\n\",text)\n",
    "    sentences = sentence_tokenize(paragraphs)\n",
    "\n",
    "    word_lists = []\n",
    "\n",
    "    for sent in sentences:\n",
    "      word_lists.append(tuple(word_tokenize(sent)))\n",
    "\n",
    "    pos_tag_list += POS_tagger(word_lists)\n",
    "\n",
    "file_paths = [\"../Adipine_MR_10.sgml\",\"../Adipine_TM_10.sgml\",\"../Amoxil_Capsules.sgml\",\"../Amoxil_Paediatric_Susp.sgml\",\"../Cortisyl_25_mg_Tablets.sgml\",\"../Amoxil_Syrup.sgml\"]\n",
    "nla_pipeline(file_paths)"
   ]
  }
 ],
 "metadata": {
  "colab": {
   "provenance": []
  },
  "kernelspec": {
   "display_name": "Python 3",
   "name": "python3"
  },
  "language_info": {
   "codemirror_mode": {
    "name": "ipython",
    "version": 3
   },
   "file_extension": ".py",
   "mimetype": "text/x-python",
   "name": "python",
   "nbconvert_exporter": "python",
   "pygments_lexer": "ipython3",
   "version": "3.12.6"
  }
 },
 "nbformat": 4,
 "nbformat_minor": 0
}
